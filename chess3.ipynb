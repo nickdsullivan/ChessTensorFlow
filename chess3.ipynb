{
 "cells": [
  {
   "cell_type": "markdown",
   "id": "f4a79485",
   "metadata": {},
   "source": [
    "### Description\n",
    "This workbook will train a chess AI. It will use a combination of first backwards propagation and then genetic algorithms.  "
   ]
  },
  {
   "cell_type": "markdown",
   "id": "494a75b9",
   "metadata": {},
   "source": [
    "Imports"
   ]
  },
  {
   "cell_type": "code",
   "execution_count": 1,
   "id": "da341e47",
   "metadata": {},
   "outputs": [],
   "source": [
    "import tensorflow as tf\n",
    "import numpy as np\n",
    "import matplotlib.pyplot as plt\n",
    "from tqdm import tqdm\n",
    "import chess.engine\n",
    "import chess\n",
    "import chess.svg\n",
    "import random\n",
    "import pandas as pd\n",
    "import pickle\n",
    "from tensorflow.keras import datasets, layers, models\n",
    "from tensorflow.keras.layers import Input, Conv2D, Dense, Flatten, Dropout\n",
    "from tensorflow.keras.layers import GlobalMaxPooling2D, MaxPooling2D\n",
    "from tensorflow.keras.layers import BatchNormalization\n",
    "from tensorflow.keras.models import Model\n",
    "from tensorflow.keras.models import load_model\n",
    "import keras.models\n",
    "import time"
   ]
  },
  {
   "cell_type": "markdown",
   "id": "46e12f26",
   "metadata": {},
   "source": [
    "Before we create data we have to do some set up.  The plan is to have a 2d input each with a 13 hot vector.  (I chose 13 instead of 12 because I think probably will help teach the format of the board.  Of course you should leave one out in other applications because of the multicollinearity issue)."
   ]
  },
  {
   "cell_type": "code",
   "execution_count": 2,
   "id": "e8f8f888",
   "metadata": {},
   "outputs": [],
   "source": [
    "#input: chess board objects\n",
    "#output 8,8,13 nparray\n",
    "def boardToInput(board):\n",
    "    #I should probably make this a np array but I will have to test if it is faster\n",
    "    pieces = ['.','r','n','b','q','k','p','P','R','N','B','Q','K']\n",
    "    #stringify the board\n",
    "    string = str(board)\n",
    "    #each col and row has a 13 1 hot vector of the current piece as set in the pieces variable\n",
    "    arr= np.zeros(shape=(8,8,13))\n",
    "    row = 0\n",
    "    col = 0    \n",
    "    #I know this is stupid we are doing this so many times I don't want to call len(string)\n",
    "    for indexer in range(127):\n",
    "        #Skip the spaces\n",
    "        if string[indexer] == ' ':\n",
    "            continue\n",
    "        #This means we are about to move on to a new col\n",
    "        if string[indexer] == '\\n':\n",
    "            col = 0\n",
    "            row = row + 1\n",
    "            continue        \n",
    "        arr[row][col][pieces.index(string[indexer])] = 1\n",
    "        col  = col + 1            \n",
    "    return arr\n",
    "            "
   ]
  },
  {
   "cell_type": "markdown",
   "id": "ed0e3942",
   "metadata": {},
   "source": [
    "These methods will return np arrays of X and Y.  createData will have Y as the engines eval of the position"
   ]
  },
  {
   "cell_type": "markdown",
   "id": "69ffd493",
   "metadata": {},
   "source": [
    "# Helper methods.  \n",
    "These methods do a variety of things most of them are pretty boring but you can look at them.  I will describe them here\n",
    "### valueToFloat\n",
    "Stockfish outputs some random integer which can be positive or negative.  Or something like \"#+5\" which means white has checkmate in 5 moves.  This is really hard to train.  So I convert this into a float [0,1].  Where 0 is the AI found checkmate for black and 1 is checkmate for white.  So is the float is close to 0 the model thinks that black is winning.\n",
    "### createData\n",
    "This creates data for the model to train on.  It starts with the start of a game.  It then adds the position to the training data and evaluates the position with stockfish and adds that to the training data.  The next thing it does is make a move.  Usually this is a random move however I found that if stockfish makes the move the model gets better.  However it takes a long time for stockfish to find a move.  The paramater percent_engine_moves dictates what percentage(really it is what percent chance) will the engine make a move vs just a random move.  The two values I have tried are .3 and .5.  .5 took a long time.  Technically I have that data saved on this computer but I havent really used it.  \n",
    "The other paramater is percent_nonAI_games which is how many of the games should just be played by AI.  I didnt find this to have much of an effect on the model but I only tried low percentages.\n",
    "\n",
    "### createDataAutoEncoder\n",
    "I never used this but it creates data for an autoencoder if you want to try that\n",
    "\n",
    "### getEngineMove\n",
    "This was pretty slow.  Its fast now.  Gets the best engine move"
   ]
  },
  {
   "cell_type": "code",
   "execution_count": 3,
   "id": "0348f7e4",
   "metadata": {},
   "outputs": [],
   "source": [
    "#Quick method to convert pychess evaluations to floats\n",
    "def valueToFloat(val):\n",
    "    #This is emperically the min and the max that I found for each.  Normalized theses\n",
    "    minEvaluation = -1500\n",
    "    maxEvaluation = 1500\n",
    "\n",
    "    string = str(val)\n",
    "    val = 0\n",
    "    \n",
    "    if '#' in string:\n",
    "        if string[1] == '+':\n",
    "            return 1\n",
    "        elif string[1] == '-':\n",
    "            return 0\n",
    "    val = float(string)\n",
    "    val = (val - minEvaluation)/(maxEvaluation-minEvaluation)\n",
    "    if val < 0:\n",
    "        val = 0\n",
    "    if val > 1:\n",
    "        val = 1\n",
    "    return val\n",
    "    #return val\n",
    "def createData(n,engine,percent_engine_moves=0.3,percent_non_pure_ai_games=1): \n",
    "    X = np.zeros((n,8,8,13))\n",
    "    Y = np.zeros(n)\n",
    "    isBlack = False\n",
    "    board = chess.Board()\n",
    "    for i in tqdm(range(int(n*percent_non_pure_ai_games))):\n",
    "        isBlack = not isBlack\n",
    "        if board.outcome() != None: \n",
    "            board=chess.Board()\n",
    "            isBlack = False\n",
    "        val = valueToFloat(engine.analyse(board, chess.engine.Limit(depth=1))['score'].white())\n",
    "        X[i] = (boardToInput(board))\n",
    "        Y[i] = val\n",
    "        moves = list(board.legal_moves)\n",
    "        \n",
    "        if random.random() > percent_engine_moves:\n",
    "            move = random.choice(moves)\n",
    "        else:\n",
    "            move =getEngineMove(board,engine)\n",
    "        board.push(move)\n",
    "    for i in tqdm(range(int(n*percent_non_pure_ai_games),n)):\n",
    "        isBlack = not isBlack\n",
    "        if board.outcome() != None: \n",
    "            board=chess.Board()\n",
    "            isBlack = False\n",
    "        val = valueToFloat(engine.analyse(board, chess.engine.Limit(depth=1))['score'].white())\n",
    "        X[i] = (boardToInput(board))\n",
    "        Y[i] = val\n",
    "        moves = list(board.legal_moves)\n",
    "        move =getEngineMove(board,engine)\n",
    "        board.push(move)\n",
    "    return X, Y\n",
    "\n",
    "\n",
    "\n",
    "def createDataAutoEncoder(n,engine): \n",
    "    X = np.zeros((n,8,8,13))\n",
    "    Y = np.zeros(n)\n",
    "    board = chess.Board()\n",
    "    for i in tqdm(range(n)):\n",
    "        if board.outcome() != None: \n",
    "            board=chess.Board()\n",
    "        val = valueToFloat(engine.analyse(board, chess.engine.Limit(depth=1))['score'].white())\n",
    "        X[i] = boardToInput(board)\n",
    "        Y[i] = val\n",
    "        moves = list(board.legal_moves)\n",
    "        move = random.choice(moves)\n",
    "        board.push(move)\n",
    "    return X, Y\n",
    "\n",
    "\n",
    "def getMoveEngine(board,moves,isBlack):\n",
    "    return engine.play(board,limit = chess.engine.Limit(depth=1)).move\n",
    "    bestEval = -5000\n",
    "    bestMove = moves[0]\n",
    "    for move in moves:\n",
    "        board.push(move)\n",
    "        val = valueToFloat(engine.analyse(board, chess.engine.Limit(depth=1))['score'].white())\n",
    "        if isBlack:\n",
    "            val =val*-1\n",
    "        if val > bestEval:\n",
    "            bestMove = move\n",
    "            bestEval = val\n",
    "        board.pop()\n",
    "    return bestMove\n",
    "def getEngineMove(board,engine,depth =1):\n",
    "    return engine.play(board,limit = chess.engine.Limit(depth=depth)).move\n",
    "#This is old\n",
    "def getEngineMoveOld(board,engine,isBlack,depth=1):\n",
    "    bestEval = -5000\n",
    "    moves = list(board.legal_moves)\n",
    "    bestMove = moves[0]\n",
    "    for move in moves:\n",
    "        board.push(move)\n",
    "        val = valueToFloat(engine.analyse(board, chess.engine.Limit(depth=depth))['score'].white())\n",
    "        if isBlack:\n",
    "            val =val*-1\n",
    "        if val > bestEval:\n",
    "            bestMove = move\n",
    "            bestEval = val\n",
    "        board.pop()\n",
    "    return bestMove\n"
   ]
  },
  {
   "cell_type": "markdown",
   "id": "6e7de97e",
   "metadata": {},
   "source": [
    "# IMPORTANT\n",
    "Please add your own path to stockfish here"
   ]
  },
  {
   "cell_type": "code",
   "execution_count": 4,
   "id": "394cc05e",
   "metadata": {},
   "outputs": [],
   "source": [
    "engine = chess.engine.SimpleEngine.popen_uci(\".\\\\stockfish\\\\stockfish_15.1_win_x64_avx2\\\\stockfish.exe\")"
   ]
  },
  {
   "cell_type": "markdown",
   "id": "c0b1fe92",
   "metadata": {},
   "source": [
    "## Training data\n",
    "This block creates new training data with the params above\n",
    "Set train_new_model to True if you want to create the data\n",
    "and save_data to True if you want to save it\n",
    "Also test_set is false you dont need it because we test the AI on its self!"
   ]
  },
  {
   "cell_type": "code",
   "execution_count": 5,
   "id": "c3cc0324",
   "metadata": {},
   "outputs": [],
   "source": [
    "train_new_model = False\n",
    "save_data = False\n",
    "test_set = False\n",
    "\n",
    "\n",
    "if train_new_model:\n",
    "    \n",
    "    training_size = 10000\n",
    "    testing_size = int(training_size*.2)\n",
    "    \n",
    "    Xtr, Ytr = createData(training_size,engine,percent_engine_moves=.5)\n",
    "    \n",
    "    if test_set:\n",
    "        Xte, Yte = createData(testing_size,engine)\n",
    "        \n",
    "    if save_data:\n",
    "        \n",
    "        import pickle\n",
    "        dataset = [Xtr,Ytr]\n",
    "        outputFile = 'tr0500_backup.data'\n",
    "        fw = open(outputFile, 'wb')\n",
    "        pickle.dump(dataset, fw)\n",
    "        fw.close()\n",
    "        \n",
    "        \n",
    "        if test_set:\n",
    "            dataset = [Xte,Yte]\n",
    "            outputFile = 'te0500_backup.data'\n",
    "            fw = open(outputFile, 'wb')\n",
    "            pickle.dump(dataset, fw)\n",
    "            fw.close()"
   ]
  },
  {
   "cell_type": "code",
   "execution_count": 6,
   "id": "423ab7ef",
   "metadata": {},
   "outputs": [],
   "source": [
    "#This just displays the data\n",
    "if train_new_model:\n",
    "    plt.hist(Ytr,bins=100)\n",
    "    plt.show()"
   ]
  },
  {
   "cell_type": "markdown",
   "id": "da899bd7",
   "metadata": {},
   "source": [
    "### Creating the model\n",
    "To start we will train a basic model with these parameters:\n",
    "3"
   ]
  },
  {
   "cell_type": "code",
   "execution_count": 7,
   "id": "9272ebd1",
   "metadata": {},
   "outputs": [],
   "source": [
    "if train_new_model:\n",
    "    model = models.Sequential()\n",
    "    model.add(layers.Input(shape=(8, 8, 13)))\n",
    "    #model.add(layers.Conv2D(64, (8, 3), activation='relu', input_shape=(8, 8, 13)))\n",
    "    model.add(layers.Conv2D(filters=32, kernel_size=3, padding='same', activation='relu'))\n",
    "    model.add(layers.Conv2D(filters=32, kernel_size=3, padding='same', activation='relu'))\n",
    "    model.add(layers.Conv2D(filters=32, kernel_size=3, padding='same', activation='relu'))\n",
    "    model.add(layers.Conv2D(filters=32, kernel_size=3, padding='same', activation='relu'))\n",
    "    model.add(layers.Flatten())\n",
    "    model.add(layers.Dense(64, activation=tf.nn.relu))\n",
    "    model.add(layers.Dense(128, activation=tf.nn.relu))\n",
    "    model.add(layers.Dense(64, activation=tf.nn.relu))\n",
    "    model.add(layers.Dense(128, activation=tf.nn.relu))\n",
    "    model.add(layers.Dense(128, activation=tf.nn.relu))\n",
    "    model.add(layers.Dense(128, activation=tf.nn.relu))\n",
    "    model.add(layers.Dense(64, activation=tf.nn.relu))\n",
    "    model.add(layers.Dense(64, activation=tf.nn.relu))\n",
    "    model.add(layers.Dense(1,activation=tf.nn.sigmoid))\n",
    "    model.summary()"
   ]
  },
  {
   "cell_type": "code",
   "execution_count": 8,
   "id": "5a784c57",
   "metadata": {
    "scrolled": true
   },
   "outputs": [],
   "source": [
    "from tensorflow.keras.callbacks import ModelCheckpoint\n",
    "import tensorflow.keras.callbacks as callbacks\n",
    "\n",
    "import tensorflow.keras.optimizers as optimizers\n",
    "\n",
    "if train_new_model:\n",
    "    #model.compile(optimizer=optimizers.Adam(1e-2), loss=tf.keras.losses.BinaryCrossentropy(from_logits=False))\n",
    "    model.compile(optimizer=optimizers.Adam(1e-4), loss='Huber')\n",
    "\n",
    "    #model.summary()\n",
    "    checkpoint_filepath = '/tmp/checkpoint/'\n",
    "\n",
    "\n",
    "    model_checkpointing_callback = ModelCheckpoint(\n",
    "        filepath = checkpoint_filepath,\n",
    "        save_best_only= True,\n",
    "    )\n",
    "\n",
    "    model.fit(Xtr, Ytr,\n",
    "              batch_size=2048,\n",
    "              epochs=2,\n",
    "              verbose=1,\n",
    "              validation_split=0.1,\n",
    "                callbacks=[callbacks.ReduceLROnPlateau(monitor='loss', patience=10),\n",
    "                         callbacks.EarlyStopping(monitor='loss', patience=15, min_delta=1e-4),model_checkpointing_callback])\n",
    "    model.save('model_moves50_mixed00.h5')\n",
    "    model.fit(Xtr, Ytr,\n",
    "              batch_size=2048,\n",
    "              epochs=1,\n",
    "              verbose=1,\n",
    "              validation_split=0.1,\n",
    "                callbacks=[callbacks.ReduceLROnPlateau(monitor='loss', patience=10),\n",
    "                         callbacks.EarlyStopping(monitor='loss', patience=15, min_delta=1e-4),model_checkpointing_callback])\n",
    "    model.save('model_moves50_mixed00.h5')"
   ]
  },
  {
   "cell_type": "code",
   "execution_count": 9,
   "id": "59e01ae8",
   "metadata": {},
   "outputs": [],
   "source": [
    "if train_new_model:\n",
    "    model.save('model_moves03_mixed01_archive.h5')"
   ]
  },
  {
   "cell_type": "markdown",
   "id": "8d21021e",
   "metadata": {},
   "source": [
    "# Load old model\n",
    "### This is the best model as of right now"
   ]
  },
  {
   "cell_type": "code",
   "execution_count": 10,
   "id": "5dff0b79",
   "metadata": {},
   "outputs": [],
   "source": [
    "if not train_new_model:\n",
    "    model = load_model('model_moves30_mixed01_more_training.h5')"
   ]
  },
  {
   "cell_type": "markdown",
   "id": "e3c42451",
   "metadata": {},
   "source": [
    "# Getting a model move\n",
    "These methods moves from models with the given params\n"
   ]
  },
  {
   "cell_type": "code",
   "execution_count": 11,
   "id": "4be2621e",
   "metadata": {},
   "outputs": [],
   "source": [
    "def getModelMove(board,model,isBlack,depth = 1):\n",
    "    moves = list(board.legal_moves)\n",
    "    bestEval = -2\n",
    "    if isBlack:\n",
    "        bestEval = bestEval *-1\n",
    "    bestMove = None\n",
    "    for move in moves:\n",
    "        board.push(move)\n",
    "        if board.is_checkmate():\n",
    "            board.pop()\n",
    "            if isBlack:\n",
    "                return 0,move\n",
    "            return 1,move\n",
    "        #val = model(np.array([boardToInput(board)]))\n",
    "        val = evaluatePosition(board,model,depth-1,not isBlack)\n",
    "        if isBlack:\n",
    "            if val < bestEval:\n",
    "                bestMove = move\n",
    "                if move == None:\n",
    "                    print(\"Oh god\")\n",
    "                bestEval = val\n",
    "        else:  \n",
    "            if val > bestEval:\n",
    "                bestMove = move\n",
    "                bestEval = val\n",
    "        board.pop()\n",
    "    return bestEval,bestMove"
   ]
  },
  {
   "cell_type": "code",
   "execution_count": 12,
   "id": "e13107e5",
   "metadata": {},
   "outputs": [],
   "source": [
    "#Classic minmax algo\n",
    "#TODO alpha beta pruning\n",
    "def evaluatePosition(board,model,depth,isBlack):\n",
    "    moves = list(board.legal_moves) \n",
    "    #print(\"Depth: \"+ str(depth) + \" # of moves \" + str(len(moves)))\n",
    "    count = 0\n",
    "    bestEval = -1\n",
    "    if isBlack:\n",
    "        bestEval = 1\n",
    "    #\n",
    "    if depth <= 0:\n",
    "        evaluation = model(np.array([boardToInput(board)]))\n",
    "        return evaluation\n",
    "    for move in moves:\n",
    "        #print(\"Depth \" + str(depth) + \" move count \" + str(count))\n",
    "        board.push(move)\n",
    "        if board.is_checkmate():\n",
    "            board.pop()\n",
    "            val = 1\n",
    "            if isBlack:\n",
    "                val  = 0\n",
    "            return val\n",
    "        else:\n",
    "            evaluation = evaluatePosition(board,model,depth-1,not isBlack)\n",
    "        board.pop()\n",
    "        if isBlack:\n",
    "            bestEval = min(bestEval,evaluation)\n",
    "        else:\n",
    "            bestEval = max(bestEval,evaluation)\n",
    "        count = count +1\n",
    "    return bestEval\n",
    "            "
   ]
  },
  {
   "cell_type": "code",
   "execution_count": 67,
   "id": "3449d913",
   "metadata": {},
   "outputs": [],
   "source": [
    "board =chess.Board()\n",
    "isBlack = False"
   ]
  },
  {
   "cell_type": "code",
   "execution_count": 120,
   "id": "073628e0",
   "metadata": {},
   "outputs": [
    {
     "name": "stdout",
     "output_type": "stream",
     "text": [
      "0\n",
      "-2\n"
     ]
    },
    {
     "ename": "AttributeError",
     "evalue": "'NoneType' object has no attribute 'from_square'",
     "output_type": "error",
     "traceback": [
      "\u001b[1;31m---------------------------------------------------------------------------\u001b[0m",
      "\u001b[1;31mAttributeError\u001b[0m                            Traceback (most recent call last)",
      "Cell \u001b[1;32mIn[120], line 4\u001b[0m\n\u001b[0;32m      2\u001b[0m \u001b[38;5;28mprint\u001b[39m(valueToFloat(engine\u001b[38;5;241m.\u001b[39manalyse(board, chess\u001b[38;5;241m.\u001b[39mengine\u001b[38;5;241m.\u001b[39mLimit(depth\u001b[38;5;241m=\u001b[39m\u001b[38;5;241m2\u001b[39m))[\u001b[38;5;124m'\u001b[39m\u001b[38;5;124mscore\u001b[39m\u001b[38;5;124m'\u001b[39m]\u001b[38;5;241m.\u001b[39mwhite()))\n\u001b[0;32m      3\u001b[0m \u001b[38;5;28mprint\u001b[39m(e)\n\u001b[1;32m----> 4\u001b[0m \u001b[43mboard\u001b[49m\u001b[38;5;241;43m.\u001b[39;49m\u001b[43mpush\u001b[49m\u001b[43m(\u001b[49m\u001b[43mm\u001b[49m\u001b[43m)\u001b[49m\n\u001b[0;32m      6\u001b[0m isBlack \u001b[38;5;241m=\u001b[39m \u001b[38;5;129;01mnot\u001b[39;00m isBlack\n\u001b[0;32m      7\u001b[0m board\n",
      "File \u001b[1;32m~\\AppData\\Local\\anaconda3\\lib\\site-packages\\chess\\__init__.py:2200\u001b[0m, in \u001b[0;36mBoard.push\u001b[1;34m(self, move)\u001b[0m\n\u001b[0;32m   2177\u001b[0m \u001b[38;5;124;03m\"\"\"\u001b[39;00m\n\u001b[0;32m   2178\u001b[0m \u001b[38;5;124;03mUpdates the position with the given *move* and puts it onto the\u001b[39;00m\n\u001b[0;32m   2179\u001b[0m \u001b[38;5;124;03mmove stack.\u001b[39;00m\n\u001b[1;32m   (...)\u001b[0m\n\u001b[0;32m   2197\u001b[0m \u001b[38;5;124;03m    a null move.\u001b[39;00m\n\u001b[0;32m   2198\u001b[0m \u001b[38;5;124;03m\"\"\"\u001b[39;00m\n\u001b[0;32m   2199\u001b[0m \u001b[38;5;66;03m# Push move and remember board state.\u001b[39;00m\n\u001b[1;32m-> 2200\u001b[0m move \u001b[38;5;241m=\u001b[39m \u001b[38;5;28;43mself\u001b[39;49m\u001b[38;5;241;43m.\u001b[39;49m\u001b[43m_to_chess960\u001b[49m\u001b[43m(\u001b[49m\u001b[43mmove\u001b[49m\u001b[43m)\u001b[49m\n\u001b[0;32m   2201\u001b[0m board_state \u001b[38;5;241m=\u001b[39m \u001b[38;5;28mself\u001b[39m\u001b[38;5;241m.\u001b[39m_board_state()\n\u001b[0;32m   2202\u001b[0m \u001b[38;5;28mself\u001b[39m\u001b[38;5;241m.\u001b[39mcastling_rights \u001b[38;5;241m=\u001b[39m \u001b[38;5;28mself\u001b[39m\u001b[38;5;241m.\u001b[39mclean_castling_rights()  \u001b[38;5;66;03m# Before pushing stack\u001b[39;00m\n",
      "File \u001b[1;32m~\\AppData\\Local\\anaconda3\\lib\\site-packages\\chess\\__init__.py:3636\u001b[0m, in \u001b[0;36mBoard._to_chess960\u001b[1;34m(self, move)\u001b[0m\n\u001b[0;32m   3635\u001b[0m \u001b[38;5;28;01mdef\u001b[39;00m \u001b[38;5;21m_to_chess960\u001b[39m(\u001b[38;5;28mself\u001b[39m, move: Move) \u001b[38;5;241m-\u001b[39m\u001b[38;5;241m>\u001b[39m Move:\n\u001b[1;32m-> 3636\u001b[0m     \u001b[38;5;28;01mif\u001b[39;00m \u001b[43mmove\u001b[49m\u001b[38;5;241;43m.\u001b[39;49m\u001b[43mfrom_square\u001b[49m \u001b[38;5;241m==\u001b[39m E1 \u001b[38;5;129;01mand\u001b[39;00m \u001b[38;5;28mself\u001b[39m\u001b[38;5;241m.\u001b[39mkings \u001b[38;5;241m&\u001b[39m BB_E1:\n\u001b[0;32m   3637\u001b[0m         \u001b[38;5;28;01mif\u001b[39;00m move\u001b[38;5;241m.\u001b[39mto_square \u001b[38;5;241m==\u001b[39m G1 \u001b[38;5;129;01mand\u001b[39;00m \u001b[38;5;129;01mnot\u001b[39;00m \u001b[38;5;28mself\u001b[39m\u001b[38;5;241m.\u001b[39mrooks \u001b[38;5;241m&\u001b[39m BB_G1:\n\u001b[0;32m   3638\u001b[0m             \u001b[38;5;28;01mreturn\u001b[39;00m Move(E1, H1)\n",
      "\u001b[1;31mAttributeError\u001b[0m: 'NoneType' object has no attribute 'from_square'"
     ]
    }
   ],
   "source": [
    "e,m = getModelMove(board,model,isBlack,depth =2)\n",
    "print(valueToFloat(engine.analyse(board, chess.engine.Limit(depth=2))['score'].white()))\n",
    "print(e)\n",
    "board.push(m)\n",
    "\n",
    "isBlack = not isBlack\n",
    "board"
   ]
  },
  {
   "cell_type": "code",
   "execution_count": null,
   "id": "03368353",
   "metadata": {},
   "outputs": [],
   "source": []
  },
  {
   "cell_type": "code",
   "execution_count": 112,
   "id": "6b1c3e5a",
   "metadata": {},
   "outputs": [
    {
     "ename": "NameError",
     "evalue": "name 'moves' is not defined",
     "output_type": "error",
     "traceback": [
      "\u001b[1;31m---------------------------------------------------------------------------\u001b[0m",
      "\u001b[1;31mNameError\u001b[0m                                 Traceback (most recent call last)",
      "Cell \u001b[1;32mIn[112], line 1\u001b[0m\n\u001b[1;32m----> 1\u001b[0m \u001b[38;5;28;01mwhile\u001b[39;00m \u001b[38;5;28mlen\u001b[39m(\u001b[43mmoves\u001b[49m) \u001b[38;5;241m!=\u001b[39m \u001b[38;5;241m0\u001b[39m:\n\u001b[0;32m      3\u001b[0m     \u001b[38;5;28mprint\u001b[39m()\n\u001b[0;32m      4\u001b[0m     \u001b[38;5;28mprint\u001b[39m(isBlack)\n",
      "\u001b[1;31mNameError\u001b[0m: name 'moves' is not defined"
     ]
    }
   ],
   "source": [
    "\n",
    "while len(moves) != 0:\n",
    "    \n",
    "    print()\n",
    "    print(isBlack)\n",
    "    moves = list(board.legal_moves)\n",
    "    engineMove = getEngineMove(board,engine)\n",
    "    depth = 1\n",
    "    if not isBlack:\n",
    "        depth = 2\n",
    "    else:\n",
    "        depth = 1\n",
    "    evaluation, AImove =  getModelMove(board,model,isBlack,depth=depth)\n",
    "    move = AImove\n",
    "    board.push(move)\n",
    "    print(\"Model says: \" +str(float(evaluation)))\n",
    "    if isBlack:\n",
    "        print(\"Depth 1 eval : \"  + str(float(evaluatePosition(board,model,1,isBlack))))\n",
    "        print(\"Engine evaluates it at: \" + str(valueToFloat(engine.analyse(board, chess.engine.Limit(depth=1))['score'].white())))\n",
    "    else:\n",
    "        print(\"Depth 2 eval : \"  + str(float(evaluatePosition(board,model,2,isBlack))))\n",
    "        print(\"Engine evaluates it at: \" + str(valueToFloat(engine.analyse(board, chess.engine.Limit(depth=1))['score'].white())))\n",
    "    isBlack = not isBlack\n",
    "    break\n",
    "board"
   ]
  },
  {
   "cell_type": "code",
   "execution_count": 121,
   "id": "b303863f",
   "metadata": {},
   "outputs": [],
   "source": [
    "board =chess.Board()\n",
    "isBlack = False"
   ]
  },
  {
   "cell_type": "code",
   "execution_count": 153,
   "id": "c86b92f3",
   "metadata": {},
   "outputs": [
    {
     "ename": "AttributeError",
     "evalue": "'NoneType' object has no attribute 'from_square'",
     "output_type": "error",
     "traceback": [
      "\u001b[1;31m---------------------------------------------------------------------------\u001b[0m",
      "\u001b[1;31mAttributeError\u001b[0m                            Traceback (most recent call last)",
      "Cell \u001b[1;32mIn[153], line 5\u001b[0m\n\u001b[0;32m      3\u001b[0m \u001b[38;5;28;01melse\u001b[39;00m:\n\u001b[0;32m      4\u001b[0m     e,m\u001b[38;5;241m=\u001b[39mgetModelMove(board,model,isBlack,depth \u001b[38;5;241m=\u001b[39m \u001b[38;5;241m2\u001b[39m)\n\u001b[1;32m----> 5\u001b[0m \u001b[43mboard\u001b[49m\u001b[38;5;241;43m.\u001b[39;49m\u001b[43mpush\u001b[49m\u001b[43m(\u001b[49m\u001b[43mm\u001b[49m\u001b[43m)\u001b[49m\n\u001b[0;32m      6\u001b[0m isBlack \u001b[38;5;241m=\u001b[39m \u001b[38;5;129;01mnot\u001b[39;00m isBlack\n\u001b[0;32m      7\u001b[0m \u001b[38;5;28mprint\u001b[39m(\u001b[38;5;28mfloat\u001b[39m(e))\n",
      "File \u001b[1;32m~\\AppData\\Local\\anaconda3\\lib\\site-packages\\chess\\__init__.py:2200\u001b[0m, in \u001b[0;36mBoard.push\u001b[1;34m(self, move)\u001b[0m\n\u001b[0;32m   2177\u001b[0m \u001b[38;5;124;03m\"\"\"\u001b[39;00m\n\u001b[0;32m   2178\u001b[0m \u001b[38;5;124;03mUpdates the position with the given *move* and puts it onto the\u001b[39;00m\n\u001b[0;32m   2179\u001b[0m \u001b[38;5;124;03mmove stack.\u001b[39;00m\n\u001b[1;32m   (...)\u001b[0m\n\u001b[0;32m   2197\u001b[0m \u001b[38;5;124;03m    a null move.\u001b[39;00m\n\u001b[0;32m   2198\u001b[0m \u001b[38;5;124;03m\"\"\"\u001b[39;00m\n\u001b[0;32m   2199\u001b[0m \u001b[38;5;66;03m# Push move and remember board state.\u001b[39;00m\n\u001b[1;32m-> 2200\u001b[0m move \u001b[38;5;241m=\u001b[39m \u001b[38;5;28;43mself\u001b[39;49m\u001b[38;5;241;43m.\u001b[39;49m\u001b[43m_to_chess960\u001b[49m\u001b[43m(\u001b[49m\u001b[43mmove\u001b[49m\u001b[43m)\u001b[49m\n\u001b[0;32m   2201\u001b[0m board_state \u001b[38;5;241m=\u001b[39m \u001b[38;5;28mself\u001b[39m\u001b[38;5;241m.\u001b[39m_board_state()\n\u001b[0;32m   2202\u001b[0m \u001b[38;5;28mself\u001b[39m\u001b[38;5;241m.\u001b[39mcastling_rights \u001b[38;5;241m=\u001b[39m \u001b[38;5;28mself\u001b[39m\u001b[38;5;241m.\u001b[39mclean_castling_rights()  \u001b[38;5;66;03m# Before pushing stack\u001b[39;00m\n",
      "File \u001b[1;32m~\\AppData\\Local\\anaconda3\\lib\\site-packages\\chess\\__init__.py:3636\u001b[0m, in \u001b[0;36mBoard._to_chess960\u001b[1;34m(self, move)\u001b[0m\n\u001b[0;32m   3635\u001b[0m \u001b[38;5;28;01mdef\u001b[39;00m \u001b[38;5;21m_to_chess960\u001b[39m(\u001b[38;5;28mself\u001b[39m, move: Move) \u001b[38;5;241m-\u001b[39m\u001b[38;5;241m>\u001b[39m Move:\n\u001b[1;32m-> 3636\u001b[0m     \u001b[38;5;28;01mif\u001b[39;00m \u001b[43mmove\u001b[49m\u001b[38;5;241;43m.\u001b[39;49m\u001b[43mfrom_square\u001b[49m \u001b[38;5;241m==\u001b[39m E1 \u001b[38;5;129;01mand\u001b[39;00m \u001b[38;5;28mself\u001b[39m\u001b[38;5;241m.\u001b[39mkings \u001b[38;5;241m&\u001b[39m BB_E1:\n\u001b[0;32m   3637\u001b[0m         \u001b[38;5;28;01mif\u001b[39;00m move\u001b[38;5;241m.\u001b[39mto_square \u001b[38;5;241m==\u001b[39m G1 \u001b[38;5;129;01mand\u001b[39;00m \u001b[38;5;129;01mnot\u001b[39;00m \u001b[38;5;28mself\u001b[39m\u001b[38;5;241m.\u001b[39mrooks \u001b[38;5;241m&\u001b[39m BB_G1:\n\u001b[0;32m   3638\u001b[0m             \u001b[38;5;28;01mreturn\u001b[39;00m Move(E1, H1)\n",
      "\u001b[1;31mAttributeError\u001b[0m: 'NoneType' object has no attribute 'from_square'"
     ]
    }
   ],
   "source": [
    "\n",
    "if isBlack:\n",
    "    e,m=getModelMove(board,model,isBlack,depth = 1)\n",
    "else:\n",
    "    e,m=getModelMove(board,model,isBlack,depth = 2)\n",
    "board.push(m)\n",
    "isBlack = not isBlack\n",
    "print(float(e))\n",
    "board"
   ]
  },
  {
   "cell_type": "raw",
   "id": "24874210",
   "metadata": {},
   "source": [
    "board"
   ]
  },
  {
   "cell_type": "code",
   "execution_count": 27,
   "id": "43f62641",
   "metadata": {},
   "outputs": [],
   "source": [
    "\n",
    "def createDataModel(n,model): \n",
    "    X = np.zeros((n,8,8,13))\n",
    "    Y = np.zeros(n)\n",
    "   \n",
    "    isBlack = False\n",
    "    board = chess.Board()\n",
    "\n",
    "    for i in range(n):\n",
    "        \n",
    "        \n",
    "        isBlack = not isBlack\n",
    "        if board.outcome() != None: \n",
    "            board=chess.Board()\n",
    "            isBlack = False\n",
    "        val = valueToFloat(engine.analyse(board, chess.engine.Limit(depth=2))['score'].white())\n",
    "        \n",
    "        X[i] = (boardToInput(board))\n",
    "        Y[i] = val\n",
    "        \n",
    "        moves = list(board.legal_moves)\n",
    "        \n",
    "        \n",
    "        e,move = getModelMove(board,model,isBlack)\n",
    "        board.push(move)\n",
    "        \n",
    "    return X, Y\n"
   ]
  },
  {
   "cell_type": "markdown",
   "id": "9d4cedae",
   "metadata": {},
   "source": [
    "# Training pt 2\n",
    "This method of training is probably the best.  "
   ]
  },
  {
   "cell_type": "code",
   "execution_count": 28,
   "id": "277c974e",
   "metadata": {},
   "outputs": [
    {
     "name": "stderr",
     "output_type": "stream",
     "text": [
      "\r",
      "  0%|                                                                                         | 0/1000 [00:00<?, ?it/s]"
     ]
    },
    {
     "name": "stdout",
     "output_type": "stream",
     "text": [
      "10/10 - 0s - loss: 0.0180 - 175ms/epoch - 17ms/step\n"
     ]
    },
    {
     "name": "stderr",
     "output_type": "stream",
     "text": [
      "\r",
      "  0%|                                                                             | 1/1000 [01:40<27:56:02, 100.66s/it]"
     ]
    },
    {
     "name": "stdout",
     "output_type": "stream",
     "text": [
      "10/10 - 0s - loss: 0.0115 - 173ms/epoch - 17ms/step\n"
     ]
    },
    {
     "name": "stderr",
     "output_type": "stream",
     "text": [
      "\r",
      "  0%|▏                                                                            | 2/1000 [03:21<27:53:28, 100.61s/it]"
     ]
    },
    {
     "name": "stdout",
     "output_type": "stream",
     "text": [
      "10/10 - 0s - loss: 0.0099 - 183ms/epoch - 18ms/step\n"
     ]
    },
    {
     "name": "stderr",
     "output_type": "stream",
     "text": [
      "\r",
      "  0%|▏                                                                             | 3/1000 [04:36<24:42:10, 89.20s/it]"
     ]
    },
    {
     "name": "stdout",
     "output_type": "stream",
     "text": [
      "10/10 - 0s - loss: 0.0096 - 178ms/epoch - 18ms/step\n"
     ]
    },
    {
     "name": "stderr",
     "output_type": "stream",
     "text": [
      "\r",
      "  0%|▎                                                                             | 4/1000 [06:01<24:08:01, 87.23s/it]"
     ]
    },
    {
     "name": "stdout",
     "output_type": "stream",
     "text": [
      "10/10 - 0s - loss: 0.0105 - 168ms/epoch - 17ms/step\n"
     ]
    },
    {
     "name": "stderr",
     "output_type": "stream",
     "text": [
      "\r",
      "  0%|▍                                                                             | 5/1000 [07:21<23:25:53, 84.78s/it]"
     ]
    },
    {
     "name": "stdout",
     "output_type": "stream",
     "text": [
      "10/10 - 0s - loss: 0.0124 - 185ms/epoch - 19ms/step\n"
     ]
    },
    {
     "name": "stderr",
     "output_type": "stream",
     "text": [
      "\r",
      "  1%|▍                                                                             | 6/1000 [08:30<21:54:53, 79.37s/it]"
     ]
    },
    {
     "name": "stdout",
     "output_type": "stream",
     "text": [
      "10/10 - 0s - loss: 0.0085 - 173ms/epoch - 17ms/step\n"
     ]
    },
    {
     "name": "stderr",
     "output_type": "stream",
     "text": [
      "\r",
      "  1%|▌                                                                             | 7/1000 [09:49<21:52:10, 79.28s/it]"
     ]
    },
    {
     "name": "stdout",
     "output_type": "stream",
     "text": [
      "10/10 - 0s - loss: 0.0083 - 189ms/epoch - 19ms/step\n"
     ]
    },
    {
     "name": "stderr",
     "output_type": "stream",
     "text": [
      "\r",
      "  1%|▌                                                                             | 8/1000 [11:04<21:30:49, 78.07s/it]"
     ]
    },
    {
     "name": "stdout",
     "output_type": "stream",
     "text": [
      "10/10 - 0s - loss: 0.0176 - 183ms/epoch - 18ms/step\n"
     ]
    },
    {
     "name": "stderr",
     "output_type": "stream",
     "text": [
      "\r",
      "  1%|▋                                                                             | 9/1000 [12:20<21:13:56, 77.13s/it]"
     ]
    },
    {
     "name": "stdout",
     "output_type": "stream",
     "text": [
      "10/10 - 0s - loss: 0.0101 - 181ms/epoch - 18ms/step\n"
     ]
    },
    {
     "name": "stderr",
     "output_type": "stream",
     "text": [
      "\r",
      "  1%|▊                                                                            | 10/1000 [13:45<21:57:11, 79.83s/it]"
     ]
    },
    {
     "name": "stdout",
     "output_type": "stream",
     "text": [
      "10/10 - 0s - loss: 0.0139 - 178ms/epoch - 18ms/step\n"
     ]
    },
    {
     "name": "stderr",
     "output_type": "stream",
     "text": [
      "\r",
      "  1%|▊                                                                            | 11/1000 [15:11<22:23:26, 81.50s/it]"
     ]
    },
    {
     "name": "stdout",
     "output_type": "stream",
     "text": [
      "10/10 - 0s - loss: 0.0197 - 175ms/epoch - 17ms/step\n"
     ]
    },
    {
     "name": "stderr",
     "output_type": "stream",
     "text": [
      "\r",
      "  1%|▉                                                                            | 12/1000 [16:50<23:52:02, 86.97s/it]"
     ]
    },
    {
     "name": "stdout",
     "output_type": "stream",
     "text": [
      "10/10 - 0s - loss: 0.0151 - 176ms/epoch - 18ms/step\n"
     ]
    },
    {
     "name": "stderr",
     "output_type": "stream",
     "text": [
      "\r",
      "  1%|█                                                                            | 13/1000 [18:15<23:40:26, 86.35s/it]"
     ]
    },
    {
     "name": "stdout",
     "output_type": "stream",
     "text": [
      "10/10 - 0s - loss: 0.0065 - 171ms/epoch - 17ms/step\n"
     ]
    },
    {
     "name": "stderr",
     "output_type": "stream",
     "text": [
      "\r",
      "  1%|█                                                                            | 14/1000 [19:57<24:57:58, 91.16s/it]"
     ]
    },
    {
     "name": "stdout",
     "output_type": "stream",
     "text": [
      "10/10 - 0s - loss: 0.0106 - 176ms/epoch - 18ms/step\n"
     ]
    },
    {
     "name": "stderr",
     "output_type": "stream",
     "text": [
      "\r",
      "  2%|█▏                                                                           | 15/1000 [21:16<23:54:29, 87.38s/it]"
     ]
    },
    {
     "name": "stdout",
     "output_type": "stream",
     "text": [
      "10/10 - 0s - loss: 0.0112 - 174ms/epoch - 17ms/step\n"
     ]
    },
    {
     "name": "stderr",
     "output_type": "stream",
     "text": [
      "\r",
      "  2%|█▏                                                                           | 16/1000 [22:31<22:51:22, 83.62s/it]"
     ]
    },
    {
     "name": "stdout",
     "output_type": "stream",
     "text": [
      "10/10 - 0s - loss: 0.0083 - 178ms/epoch - 18ms/step\n"
     ]
    },
    {
     "name": "stderr",
     "output_type": "stream",
     "text": [
      "\r",
      "  2%|█▎                                                                           | 17/1000 [23:40<21:38:07, 79.23s/it]"
     ]
    },
    {
     "name": "stdout",
     "output_type": "stream",
     "text": [
      "10/10 - 0s - loss: 0.0055 - 174ms/epoch - 17ms/step\n"
     ]
    },
    {
     "name": "stderr",
     "output_type": "stream",
     "text": [
      "\r",
      "  2%|█▍                                                                           | 18/1000 [24:49<20:48:14, 76.27s/it]"
     ]
    },
    {
     "name": "stdout",
     "output_type": "stream",
     "text": [
      "10/10 - 0s - loss: 0.0060 - 216ms/epoch - 22ms/step\n"
     ]
    },
    {
     "name": "stderr",
     "output_type": "stream",
     "text": [
      "\r",
      "  2%|█▍                                                                           | 19/1000 [26:19<21:53:07, 80.31s/it]"
     ]
    },
    {
     "name": "stdout",
     "output_type": "stream",
     "text": [
      "10/10 - 0s - loss: 0.0182 - 224ms/epoch - 22ms/step\n"
     ]
    },
    {
     "name": "stderr",
     "output_type": "stream",
     "text": [
      "\r",
      "  2%|█▌                                                                           | 20/1000 [28:03<23:48:59, 87.49s/it]"
     ]
    },
    {
     "name": "stdout",
     "output_type": "stream",
     "text": [
      "10/10 - 0s - loss: 0.0153 - 183ms/epoch - 18ms/step\n"
     ]
    },
    {
     "name": "stderr",
     "output_type": "stream",
     "text": [
      "\r",
      "  2%|█▌                                                                           | 21/1000 [30:03<26:24:25, 97.10s/it]"
     ]
    },
    {
     "name": "stdout",
     "output_type": "stream",
     "text": [
      "10/10 - 0s - loss: 0.0131 - 243ms/epoch - 24ms/step\n"
     ]
    },
    {
     "name": "stderr",
     "output_type": "stream",
     "text": [
      "\r",
      "  2%|█▋                                                                           | 22/1000 [31:35<25:57:16, 95.54s/it]"
     ]
    },
    {
     "name": "stdout",
     "output_type": "stream",
     "text": [
      "10/10 - 0s - loss: 0.0283 - 221ms/epoch - 22ms/step\n"
     ]
    },
    {
     "name": "stderr",
     "output_type": "stream",
     "text": [
      "\r",
      "  2%|█▋                                                                          | 23/1000 [33:32<27:43:50, 102.18s/it]"
     ]
    },
    {
     "name": "stdout",
     "output_type": "stream",
     "text": [
      "10/10 - 0s - loss: 0.0215 - 214ms/epoch - 21ms/step\n"
     ]
    },
    {
     "name": "stderr",
     "output_type": "stream",
     "text": [
      "\r",
      "  2%|█▊                                                                          | 24/1000 [35:16<27:50:54, 102.72s/it]"
     ]
    },
    {
     "name": "stdout",
     "output_type": "stream",
     "text": [
      "10/10 - 0s - loss: 0.0150 - 225ms/epoch - 22ms/step\n"
     ]
    },
    {
     "name": "stderr",
     "output_type": "stream",
     "text": [
      "\r",
      "  2%|█▉                                                                          | 25/1000 [36:58<27:41:58, 102.27s/it]"
     ]
    },
    {
     "name": "stdout",
     "output_type": "stream",
     "text": [
      "10/10 - 0s - loss: 0.0244 - 211ms/epoch - 21ms/step\n"
     ]
    },
    {
     "name": "stderr",
     "output_type": "stream",
     "text": [
      "\r",
      "  3%|█▉                                                                          | 26/1000 [38:56<29:01:18, 107.27s/it]"
     ]
    },
    {
     "name": "stdout",
     "output_type": "stream",
     "text": [
      "10/10 - 0s - loss: 0.0186 - 210ms/epoch - 21ms/step\n"
     ]
    },
    {
     "name": "stderr",
     "output_type": "stream",
     "text": [
      "\r",
      "  3%|██                                                                          | 27/1000 [40:27<27:36:33, 102.15s/it]"
     ]
    },
    {
     "name": "stdout",
     "output_type": "stream",
     "text": [
      "10/10 - 0s - loss: 0.0077 - 197ms/epoch - 20ms/step\n"
     ]
    },
    {
     "name": "stderr",
     "output_type": "stream",
     "text": [
      "\r",
      "  3%|██▏                                                                          | 28/1000 [41:57<26:37:12, 98.59s/it]"
     ]
    },
    {
     "name": "stdout",
     "output_type": "stream",
     "text": [
      "10/10 - 0s - loss: 0.0107 - 200ms/epoch - 20ms/step\n"
     ]
    },
    {
     "name": "stderr",
     "output_type": "stream",
     "text": [
      "\r",
      "  3%|██▏                                                                          | 29/1000 [43:15<24:53:38, 92.30s/it]"
     ]
    },
    {
     "name": "stdout",
     "output_type": "stream",
     "text": [
      "10/10 - 0s - loss: 0.0082 - 200ms/epoch - 20ms/step\n"
     ]
    },
    {
     "name": "stderr",
     "output_type": "stream",
     "text": [
      "\r",
      "  3%|██▎                                                                          | 30/1000 [44:44<24:38:23, 91.45s/it]"
     ]
    },
    {
     "name": "stdout",
     "output_type": "stream",
     "text": [
      "10/10 - 0s - loss: 0.0045 - 214ms/epoch - 21ms/step\n"
     ]
    },
    {
     "name": "stderr",
     "output_type": "stream",
     "text": [
      "\r",
      "  3%|██▍                                                                          | 31/1000 [46:04<23:39:03, 87.87s/it]"
     ]
    },
    {
     "name": "stdout",
     "output_type": "stream",
     "text": [
      "10/10 - 0s - loss: 0.0285 - 198ms/epoch - 20ms/step\n"
     ]
    },
    {
     "name": "stderr",
     "output_type": "stream",
     "text": [
      "\r",
      "  3%|██▍                                                                          | 32/1000 [47:32<23:38:15, 87.91s/it]"
     ]
    },
    {
     "name": "stdout",
     "output_type": "stream",
     "text": [
      "10/10 - 0s - loss: 0.0110 - 197ms/epoch - 20ms/step\n"
     ]
    },
    {
     "name": "stderr",
     "output_type": "stream",
     "text": [
      "\r",
      "  3%|██▌                                                                          | 33/1000 [49:06<24:08:53, 89.90s/it]"
     ]
    },
    {
     "name": "stdout",
     "output_type": "stream",
     "text": [
      "10/10 - 0s - loss: 0.0220 - 197ms/epoch - 20ms/step\n"
     ]
    },
    {
     "name": "stderr",
     "output_type": "stream",
     "text": [
      "\r",
      "  3%|██▌                                                                          | 34/1000 [50:18<22:40:17, 84.49s/it]"
     ]
    },
    {
     "name": "stdout",
     "output_type": "stream",
     "text": [
      "10/10 - 0s - loss: 0.0080 - 204ms/epoch - 20ms/step\n"
     ]
    },
    {
     "name": "stderr",
     "output_type": "stream",
     "text": [
      "\r",
      "  4%|██▋                                                                          | 35/1000 [51:40<22:26:33, 83.72s/it]"
     ]
    },
    {
     "name": "stdout",
     "output_type": "stream",
     "text": [
      "10/10 - 0s - loss: 0.0324 - 182ms/epoch - 18ms/step\n"
     ]
    },
    {
     "name": "stderr",
     "output_type": "stream",
     "text": [
      "\r",
      "  4%|██▊                                                                          | 36/1000 [53:00<22:08:29, 82.69s/it]"
     ]
    },
    {
     "name": "stdout",
     "output_type": "stream",
     "text": [
      "10/10 - 0s - loss: 0.0188 - 182ms/epoch - 18ms/step\n"
     ]
    },
    {
     "name": "stderr",
     "output_type": "stream",
     "text": [
      "\r",
      "  4%|██▊                                                                          | 37/1000 [54:20<21:51:15, 81.70s/it]"
     ]
    },
    {
     "name": "stdout",
     "output_type": "stream",
     "text": [
      "10/10 - 0s - loss: 0.0150 - 184ms/epoch - 18ms/step\n"
     ]
    },
    {
     "name": "stderr",
     "output_type": "stream",
     "text": [
      "\r",
      "  4%|██▉                                                                          | 38/1000 [55:56<23:03:11, 86.27s/it]"
     ]
    },
    {
     "name": "stdout",
     "output_type": "stream",
     "text": [
      "10/10 - 0s - loss: 0.0214 - 184ms/epoch - 18ms/step\n"
     ]
    },
    {
     "name": "stderr",
     "output_type": "stream",
     "text": [
      "\r",
      "  4%|███                                                                          | 39/1000 [57:12<22:08:53, 82.97s/it]"
     ]
    },
    {
     "name": "stdout",
     "output_type": "stream",
     "text": [
      "10/10 - 0s - loss: 0.0097 - 187ms/epoch - 19ms/step\n"
     ]
    },
    {
     "name": "stderr",
     "output_type": "stream",
     "text": [
      "\r",
      "  4%|███                                                                          | 40/1000 [58:31<21:51:51, 81.99s/it]"
     ]
    },
    {
     "name": "stdout",
     "output_type": "stream",
     "text": [
      "10/10 - 0s - loss: 0.0061 - 192ms/epoch - 19ms/step\n"
     ]
    },
    {
     "name": "stderr",
     "output_type": "stream",
     "text": [
      "\r",
      "  4%|███                                                                        | 41/1000 [1:00:00<22:20:17, 83.86s/it]"
     ]
    },
    {
     "name": "stdout",
     "output_type": "stream",
     "text": [
      "10/10 - 0s - loss: 0.0114 - 211ms/epoch - 21ms/step\n"
     ]
    },
    {
     "name": "stderr",
     "output_type": "stream",
     "text": [
      "\r",
      "  4%|███▏                                                                       | 42/1000 [1:01:29<22:45:09, 85.50s/it]"
     ]
    },
    {
     "name": "stdout",
     "output_type": "stream",
     "text": [
      "10/10 - 0s - loss: 0.0137 - 169ms/epoch - 17ms/step\n"
     ]
    },
    {
     "name": "stderr",
     "output_type": "stream",
     "text": [
      "\r",
      "  4%|███▏                                                                       | 43/1000 [1:02:40<21:35:20, 81.21s/it]"
     ]
    },
    {
     "name": "stdout",
     "output_type": "stream",
     "text": [
      "10/10 - 0s - loss: 0.0128 - 185ms/epoch - 18ms/step\n"
     ]
    },
    {
     "name": "stderr",
     "output_type": "stream",
     "text": [
      "\r",
      "  4%|███▎                                                                      | 44/1000 [1:05:08<26:53:38, 101.27s/it]"
     ]
    },
    {
     "name": "stdout",
     "output_type": "stream",
     "text": [
      "10/10 - 0s - loss: 0.0152 - 169ms/epoch - 17ms/step\n"
     ]
    },
    {
     "name": "stderr",
     "output_type": "stream",
     "text": [
      "\r",
      "  4%|███▎                                                                      | 45/1000 [1:07:07<28:15:05, 106.50s/it]"
     ]
    },
    {
     "name": "stdout",
     "output_type": "stream",
     "text": [
      "10/10 - 0s - loss: 0.0068 - 185ms/epoch - 18ms/step\n"
     ]
    },
    {
     "name": "stderr",
     "output_type": "stream",
     "text": [
      "\r",
      "  5%|███▍                                                                      | 46/1000 [1:08:48<27:49:16, 104.99s/it]"
     ]
    },
    {
     "name": "stdout",
     "output_type": "stream",
     "text": [
      "10/10 - 0s - loss: 0.0055 - 178ms/epoch - 18ms/step\n"
     ]
    },
    {
     "name": "stderr",
     "output_type": "stream",
     "text": [
      "\r",
      "  5%|███▍                                                                      | 47/1000 [1:10:34<27:48:17, 105.03s/it]"
     ]
    },
    {
     "name": "stdout",
     "output_type": "stream",
     "text": [
      "10/10 - 0s - loss: 0.0100 - 178ms/epoch - 18ms/step\n"
     ]
    },
    {
     "name": "stderr",
     "output_type": "stream",
     "text": [
      "\r",
      "  5%|███▌                                                                      | 48/1000 [1:12:19<27:47:47, 105.11s/it]"
     ]
    },
    {
     "name": "stdout",
     "output_type": "stream",
     "text": [
      "10/10 - 0s - loss: 0.0147 - 178ms/epoch - 18ms/step\n"
     ]
    },
    {
     "name": "stderr",
     "output_type": "stream",
     "text": [
      "\r",
      "  5%|███▋                                                                      | 49/1000 [1:14:03<27:40:55, 104.79s/it]"
     ]
    },
    {
     "name": "stdout",
     "output_type": "stream",
     "text": [
      "10/10 - 0s - loss: 0.0090 - 200ms/epoch - 20ms/step\n"
     ]
    },
    {
     "name": "stderr",
     "output_type": "stream",
     "text": [
      "\r",
      "  5%|███▋                                                                      | 50/1000 [1:15:53<28:03:30, 106.33s/it]"
     ]
    },
    {
     "name": "stdout",
     "output_type": "stream",
     "text": [
      "10/10 - 0s - loss: 0.0358 - 200ms/epoch - 20ms/step\n"
     ]
    },
    {
     "name": "stderr",
     "output_type": "stream",
     "text": [
      "\r",
      "  5%|███▊                                                                      | 51/1000 [1:18:08<30:18:05, 114.95s/it]"
     ]
    },
    {
     "name": "stdout",
     "output_type": "stream",
     "text": [
      "10/10 - 0s - loss: 0.0236 - 185ms/epoch - 18ms/step\n"
     ]
    },
    {
     "name": "stderr",
     "output_type": "stream",
     "text": [
      "\r",
      "  5%|███▊                                                                      | 52/1000 [1:19:54<29:32:19, 112.17s/it]"
     ]
    },
    {
     "name": "stdout",
     "output_type": "stream",
     "text": [
      "10/10 - 0s - loss: 0.0178 - 185ms/epoch - 18ms/step\n"
     ]
    },
    {
     "name": "stderr",
     "output_type": "stream",
     "text": [
      "\r",
      "  5%|███▉                                                                      | 53/1000 [1:21:32<28:25:07, 108.03s/it]"
     ]
    },
    {
     "name": "stdout",
     "output_type": "stream",
     "text": [
      "10/10 - 0s - loss: 0.0251 - 185ms/epoch - 18ms/step\n"
     ]
    },
    {
     "name": "stderr",
     "output_type": "stream",
     "text": [
      "\r",
      "  5%|███▉                                                                      | 54/1000 [1:23:45<30:20:56, 115.49s/it]"
     ]
    },
    {
     "name": "stdout",
     "output_type": "stream",
     "text": [
      "10/10 - 0s - loss: 0.0426 - 185ms/epoch - 18ms/step\n"
     ]
    },
    {
     "name": "stderr",
     "output_type": "stream",
     "text": [
      "\r",
      "  6%|████                                                                      | 55/1000 [1:25:47<30:50:02, 117.46s/it]"
     ]
    },
    {
     "name": "stdout",
     "output_type": "stream",
     "text": [
      "10/10 - 0s - loss: 0.0206 - 185ms/epoch - 18ms/step\n"
     ]
    },
    {
     "name": "stderr",
     "output_type": "stream",
     "text": [
      "\r",
      "  6%|████▏                                                                     | 56/1000 [1:28:11<32:53:24, 125.43s/it]"
     ]
    },
    {
     "name": "stdout",
     "output_type": "stream",
     "text": [
      "10/10 - 0s - loss: 0.0098 - 185ms/epoch - 18ms/step\n"
     ]
    },
    {
     "name": "stderr",
     "output_type": "stream",
     "text": [
      "\r",
      "  6%|████▏                                                                     | 57/1000 [1:30:03<31:46:25, 121.30s/it]"
     ]
    },
    {
     "name": "stdout",
     "output_type": "stream",
     "text": [
      "10/10 - 0s - loss: 0.0166 - 178ms/epoch - 18ms/step\n"
     ]
    },
    {
     "name": "stderr",
     "output_type": "stream",
     "text": [
      "\r",
      "  6%|████▎                                                                     | 58/1000 [1:32:15<32:37:31, 124.68s/it]"
     ]
    },
    {
     "name": "stdout",
     "output_type": "stream",
     "text": [
      "10/10 - 0s - loss: 0.0228 - 185ms/epoch - 18ms/step\n"
     ]
    },
    {
     "name": "stderr",
     "output_type": "stream",
     "text": [
      "\r",
      "  6%|████▎                                                                     | 59/1000 [1:34:23<32:48:05, 125.49s/it]"
     ]
    },
    {
     "name": "stdout",
     "output_type": "stream",
     "text": [
      "10/10 - 0s - loss: 0.0174 - 178ms/epoch - 18ms/step\n"
     ]
    },
    {
     "name": "stderr",
     "output_type": "stream",
     "text": [
      "\r",
      "  6%|████▍                                                                     | 60/1000 [1:36:20<32:09:09, 123.14s/it]"
     ]
    },
    {
     "name": "stdout",
     "output_type": "stream",
     "text": [
      "10/10 - 0s - loss: 0.0239 - 178ms/epoch - 18ms/step\n"
     ]
    },
    {
     "name": "stderr",
     "output_type": "stream",
     "text": [
      "\r",
      "  6%|████▌                                                                     | 61/1000 [1:37:50<29:28:41, 113.02s/it]"
     ]
    },
    {
     "name": "stdout",
     "output_type": "stream",
     "text": [
      "10/10 - 0s - loss: 0.0452 - 184ms/epoch - 18ms/step\n"
     ]
    },
    {
     "name": "stderr",
     "output_type": "stream",
     "text": [
      "\r",
      "  6%|████▌                                                                     | 62/1000 [1:40:01<30:53:36, 118.57s/it]"
     ]
    },
    {
     "name": "stdout",
     "output_type": "stream",
     "text": [
      "10/10 - 0s - loss: 0.0193 - 178ms/epoch - 18ms/step\n"
     ]
    },
    {
     "name": "stderr",
     "output_type": "stream",
     "text": [
      "\r",
      "  6%|████▋                                                                     | 63/1000 [1:42:16<32:08:30, 123.49s/it]"
     ]
    },
    {
     "name": "stdout",
     "output_type": "stream",
     "text": [
      "10/10 - 0s - loss: 0.0311 - 200ms/epoch - 20ms/step\n"
     ]
    },
    {
     "name": "stderr",
     "output_type": "stream",
     "text": [
      "\r",
      "  6%|████▋                                                                     | 64/1000 [1:44:09<31:18:35, 120.42s/it]"
     ]
    },
    {
     "name": "stdout",
     "output_type": "stream",
     "text": [
      "10/10 - 0s - loss: 0.0157 - 185ms/epoch - 18ms/step\n"
     ]
    },
    {
     "name": "stderr",
     "output_type": "stream",
     "text": [
      "\r",
      "  6%|████▊                                                                     | 65/1000 [1:46:40<33:35:38, 129.35s/it]"
     ]
    },
    {
     "name": "stdout",
     "output_type": "stream",
     "text": [
      "10/10 - 0s - loss: 0.0147 - 185ms/epoch - 18ms/step\n"
     ]
    },
    {
     "name": "stderr",
     "output_type": "stream",
     "text": [
      "\r",
      "  7%|████▉                                                                     | 66/1000 [1:48:53<33:51:33, 130.51s/it]"
     ]
    },
    {
     "name": "stdout",
     "output_type": "stream",
     "text": [
      "10/10 - 0s - loss: 0.0127 - 185ms/epoch - 18ms/step\n"
     ]
    },
    {
     "name": "stderr",
     "output_type": "stream",
     "text": [
      "\r",
      "  7%|████▉                                                                     | 67/1000 [1:51:03<33:46:45, 130.34s/it]"
     ]
    },
    {
     "name": "stdout",
     "output_type": "stream",
     "text": [
      "10/10 - 0s - loss: 0.0101 - 194ms/epoch - 19ms/step\n"
     ]
    },
    {
     "name": "stderr",
     "output_type": "stream",
     "text": [
      "\r",
      "  7%|█████                                                                     | 68/1000 [1:52:59<32:38:52, 126.11s/it]"
     ]
    },
    {
     "name": "stdout",
     "output_type": "stream",
     "text": [
      "10/10 - 0s - loss: 0.0112 - 169ms/epoch - 17ms/step\n"
     ]
    },
    {
     "name": "stderr",
     "output_type": "stream",
     "text": [
      "\r",
      "  7%|█████                                                                     | 69/1000 [1:54:48<31:18:06, 121.04s/it]"
     ]
    },
    {
     "name": "stdout",
     "output_type": "stream",
     "text": [
      "10/10 - 0s - loss: 0.0190 - 185ms/epoch - 18ms/step\n"
     ]
    },
    {
     "name": "stderr",
     "output_type": "stream",
     "text": [
      "\r",
      "  7%|█████▏                                                                    | 70/1000 [1:57:05<32:28:18, 125.70s/it]"
     ]
    },
    {
     "name": "stdout",
     "output_type": "stream",
     "text": [
      "10/10 - 0s - loss: 0.0138 - 185ms/epoch - 18ms/step\n"
     ]
    },
    {
     "name": "stderr",
     "output_type": "stream",
     "text": [
      "\r",
      "  7%|█████▎                                                                    | 71/1000 [1:58:57<31:24:11, 121.69s/it]"
     ]
    },
    {
     "name": "stdout",
     "output_type": "stream",
     "text": [
      "10/10 - 0s - loss: 0.0237 - 303ms/epoch - 30ms/step\n"
     ]
    },
    {
     "name": "stderr",
     "output_type": "stream",
     "text": [
      "\r",
      "  7%|█████▎                                                                    | 72/1000 [2:00:23<28:35:46, 110.93s/it]"
     ]
    },
    {
     "name": "stdout",
     "output_type": "stream",
     "text": [
      "10/10 - 0s - loss: 0.0168 - 237ms/epoch - 24ms/step\n"
     ]
    },
    {
     "name": "stderr",
     "output_type": "stream",
     "text": [
      "\r",
      "  7%|█████▍                                                                    | 73/1000 [2:02:05<27:51:28, 108.19s/it]"
     ]
    },
    {
     "name": "stdout",
     "output_type": "stream",
     "text": [
      "10/10 - 0s - loss: 0.0185 - 251ms/epoch - 25ms/step\n"
     ]
    },
    {
     "name": "stderr",
     "output_type": "stream",
     "text": [
      "\r",
      "  7%|█████▍                                                                    | 74/1000 [2:04:11<29:15:34, 113.75s/it]"
     ]
    },
    {
     "name": "stdout",
     "output_type": "stream",
     "text": [
      "10/10 - 0s - loss: 0.0161 - 272ms/epoch - 27ms/step\n"
     ]
    },
    {
     "name": "stderr",
     "output_type": "stream",
     "text": [
      "  8%|█████▌                                                                    | 75/1000 [2:06:14<25:56:57, 100.99s/it]\n"
     ]
    },
    {
     "ename": "KeyboardInterrupt",
     "evalue": "",
     "output_type": "error",
     "traceback": [
      "\u001b[1;31m---------------------------------------------------------------------------\u001b[0m",
      "\u001b[1;31mKeyboardInterrupt\u001b[0m                         Traceback (most recent call last)",
      "Cell \u001b[1;32mIn[28], line 2\u001b[0m\n\u001b[0;32m      1\u001b[0m \u001b[38;5;28;01mfor\u001b[39;00m i \u001b[38;5;129;01min\u001b[39;00m tqdm(\u001b[38;5;28mrange\u001b[39m(\u001b[38;5;241m1000\u001b[39m)):\n\u001b[1;32m----> 2\u001b[0m     Xtr2,Ytr2 \u001b[38;5;241m=\u001b[39m \u001b[43mcreateDataModel\u001b[49m\u001b[43m(\u001b[49m\u001b[38;5;241;43m1000\u001b[39;49m\u001b[43m,\u001b[49m\u001b[43mmodel\u001b[49m\u001b[43m)\u001b[49m\n\u001b[0;32m      3\u001b[0m     model\u001b[38;5;241m.\u001b[39mfit(Xtr2, Ytr2,\n\u001b[0;32m      4\u001b[0m               batch_size\u001b[38;5;241m=\u001b[39m\u001b[38;5;241m100\u001b[39m,\n\u001b[0;32m      5\u001b[0m               epochs\u001b[38;5;241m=\u001b[39m\u001b[38;5;241m1\u001b[39m,\n\u001b[0;32m      6\u001b[0m               verbose\u001b[38;5;241m=\u001b[39m\u001b[38;5;241m2\u001b[39m,\n\u001b[0;32m      7\u001b[0m              )\n\u001b[0;32m      8\u001b[0m     model\u001b[38;5;241m.\u001b[39msave(\u001b[38;5;124m'\u001b[39m\u001b[38;5;124mmodel_moves30_mixed01_more_training.h5\u001b[39m\u001b[38;5;124m'\u001b[39m)\n",
      "Cell \u001b[1;32mIn[27], line 23\u001b[0m, in \u001b[0;36mcreateDataModel\u001b[1;34m(n, model)\u001b[0m\n\u001b[0;32m     18\u001b[0m     Y[i] \u001b[38;5;241m=\u001b[39m val\n\u001b[0;32m     20\u001b[0m     moves \u001b[38;5;241m=\u001b[39m \u001b[38;5;28mlist\u001b[39m(board\u001b[38;5;241m.\u001b[39mlegal_moves)\n\u001b[1;32m---> 23\u001b[0m     e,move \u001b[38;5;241m=\u001b[39m \u001b[43mgetModelMove\u001b[49m\u001b[43m(\u001b[49m\u001b[43mboard\u001b[49m\u001b[43m,\u001b[49m\u001b[43mmodel\u001b[49m\u001b[43m,\u001b[49m\u001b[43misBlack\u001b[49m\u001b[43m)\u001b[49m\n\u001b[0;32m     24\u001b[0m     board\u001b[38;5;241m.\u001b[39mpush(move)\n\u001b[0;32m     26\u001b[0m \u001b[38;5;28;01mreturn\u001b[39;00m X, Y\n",
      "Cell \u001b[1;32mIn[11], line 15\u001b[0m, in \u001b[0;36mgetModelMove\u001b[1;34m(board, model, isBlack, depth)\u001b[0m\n\u001b[0;32m     13\u001b[0m     \u001b[38;5;28;01mreturn\u001b[39;00m \u001b[38;5;241m1\u001b[39m,move\n\u001b[0;32m     14\u001b[0m \u001b[38;5;66;03m#val = model(np.array([boardToInput(board)]))\u001b[39;00m\n\u001b[1;32m---> 15\u001b[0m val \u001b[38;5;241m=\u001b[39m \u001b[43mevaluatePosition\u001b[49m\u001b[43m(\u001b[49m\u001b[43mboard\u001b[49m\u001b[43m,\u001b[49m\u001b[43mmodel\u001b[49m\u001b[43m,\u001b[49m\u001b[43mdepth\u001b[49m\u001b[38;5;241;43m-\u001b[39;49m\u001b[38;5;241;43m1\u001b[39;49m\u001b[43m,\u001b[49m\u001b[38;5;129;43;01mnot\u001b[39;49;00m\u001b[43m \u001b[49m\u001b[43misBlack\u001b[49m\u001b[43m)\u001b[49m\n\u001b[0;32m     16\u001b[0m \u001b[38;5;28;01mif\u001b[39;00m isBlack:\n\u001b[0;32m     17\u001b[0m     \u001b[38;5;28;01mif\u001b[39;00m val \u001b[38;5;241m<\u001b[39m bestEval:\n",
      "Cell \u001b[1;32mIn[12], line 12\u001b[0m, in \u001b[0;36mevaluatePosition\u001b[1;34m(board, model, depth, isBlack)\u001b[0m\n\u001b[0;32m     10\u001b[0m \u001b[38;5;66;03m#\u001b[39;00m\n\u001b[0;32m     11\u001b[0m \u001b[38;5;28;01mif\u001b[39;00m depth \u001b[38;5;241m<\u001b[39m\u001b[38;5;241m=\u001b[39m \u001b[38;5;241m0\u001b[39m:\n\u001b[1;32m---> 12\u001b[0m     evaluation \u001b[38;5;241m=\u001b[39m \u001b[43mmodel\u001b[49m\u001b[43m(\u001b[49m\u001b[43mnp\u001b[49m\u001b[38;5;241;43m.\u001b[39;49m\u001b[43marray\u001b[49m\u001b[43m(\u001b[49m\u001b[43m[\u001b[49m\u001b[43mboardToInput\u001b[49m\u001b[43m(\u001b[49m\u001b[43mboard\u001b[49m\u001b[43m)\u001b[49m\u001b[43m]\u001b[49m\u001b[43m)\u001b[49m\u001b[43m)\u001b[49m\n\u001b[0;32m     13\u001b[0m     \u001b[38;5;28;01mreturn\u001b[39;00m evaluation\n\u001b[0;32m     14\u001b[0m \u001b[38;5;28;01mfor\u001b[39;00m move \u001b[38;5;129;01min\u001b[39;00m moves:\n\u001b[0;32m     15\u001b[0m     \u001b[38;5;66;03m#print(\"Depth \" + str(depth) + \" move count \" + str(count))\u001b[39;00m\n",
      "File \u001b[1;32m~\\AppData\\Local\\anaconda3\\lib\\site-packages\\keras\\utils\\traceback_utils.py:65\u001b[0m, in \u001b[0;36mfilter_traceback.<locals>.error_handler\u001b[1;34m(*args, **kwargs)\u001b[0m\n\u001b[0;32m     63\u001b[0m filtered_tb \u001b[38;5;241m=\u001b[39m \u001b[38;5;28;01mNone\u001b[39;00m\n\u001b[0;32m     64\u001b[0m \u001b[38;5;28;01mtry\u001b[39;00m:\n\u001b[1;32m---> 65\u001b[0m     \u001b[38;5;28;01mreturn\u001b[39;00m fn(\u001b[38;5;241m*\u001b[39margs, \u001b[38;5;241m*\u001b[39m\u001b[38;5;241m*\u001b[39mkwargs)\n\u001b[0;32m     66\u001b[0m \u001b[38;5;28;01mexcept\u001b[39;00m \u001b[38;5;167;01mException\u001b[39;00m \u001b[38;5;28;01mas\u001b[39;00m e:\n\u001b[0;32m     67\u001b[0m     filtered_tb \u001b[38;5;241m=\u001b[39m _process_traceback_frames(e\u001b[38;5;241m.\u001b[39m__traceback__)\n",
      "File \u001b[1;32m~\\AppData\\Local\\anaconda3\\lib\\site-packages\\keras\\engine\\training.py:558\u001b[0m, in \u001b[0;36mModel.__call__\u001b[1;34m(self, *args, **kwargs)\u001b[0m\n\u001b[0;32m    554\u001b[0m         \u001b[38;5;28msuper\u001b[39m()\u001b[38;5;241m.\u001b[39m\u001b[38;5;21m__call__\u001b[39m(inputs, \u001b[38;5;241m*\u001b[39mcopied_args, \u001b[38;5;241m*\u001b[39m\u001b[38;5;241m*\u001b[39mcopied_kwargs)\n\u001b[0;32m    556\u001b[0m     layout_map_lib\u001b[38;5;241m.\u001b[39m_map_subclass_model_variable(\u001b[38;5;28mself\u001b[39m, \u001b[38;5;28mself\u001b[39m\u001b[38;5;241m.\u001b[39m_layout_map)\n\u001b[1;32m--> 558\u001b[0m \u001b[38;5;28;01mreturn\u001b[39;00m \u001b[38;5;28msuper\u001b[39m()\u001b[38;5;241m.\u001b[39m\u001b[38;5;21m__call__\u001b[39m(\u001b[38;5;241m*\u001b[39margs, \u001b[38;5;241m*\u001b[39m\u001b[38;5;241m*\u001b[39mkwargs)\n",
      "File \u001b[1;32m~\\AppData\\Local\\anaconda3\\lib\\site-packages\\keras\\utils\\traceback_utils.py:65\u001b[0m, in \u001b[0;36mfilter_traceback.<locals>.error_handler\u001b[1;34m(*args, **kwargs)\u001b[0m\n\u001b[0;32m     63\u001b[0m filtered_tb \u001b[38;5;241m=\u001b[39m \u001b[38;5;28;01mNone\u001b[39;00m\n\u001b[0;32m     64\u001b[0m \u001b[38;5;28;01mtry\u001b[39;00m:\n\u001b[1;32m---> 65\u001b[0m     \u001b[38;5;28;01mreturn\u001b[39;00m fn(\u001b[38;5;241m*\u001b[39margs, \u001b[38;5;241m*\u001b[39m\u001b[38;5;241m*\u001b[39mkwargs)\n\u001b[0;32m     66\u001b[0m \u001b[38;5;28;01mexcept\u001b[39;00m \u001b[38;5;167;01mException\u001b[39;00m \u001b[38;5;28;01mas\u001b[39;00m e:\n\u001b[0;32m     67\u001b[0m     filtered_tb \u001b[38;5;241m=\u001b[39m _process_traceback_frames(e\u001b[38;5;241m.\u001b[39m__traceback__)\n",
      "File \u001b[1;32m~\\AppData\\Local\\anaconda3\\lib\\site-packages\\keras\\engine\\base_layer.py:1145\u001b[0m, in \u001b[0;36mLayer.__call__\u001b[1;34m(self, *args, **kwargs)\u001b[0m\n\u001b[0;32m   1140\u001b[0m     inputs \u001b[38;5;241m=\u001b[39m \u001b[38;5;28mself\u001b[39m\u001b[38;5;241m.\u001b[39m_maybe_cast_inputs(inputs, input_list)\n\u001b[0;32m   1142\u001b[0m \u001b[38;5;28;01mwith\u001b[39;00m autocast_variable\u001b[38;5;241m.\u001b[39menable_auto_cast_variables(\n\u001b[0;32m   1143\u001b[0m     \u001b[38;5;28mself\u001b[39m\u001b[38;5;241m.\u001b[39m_compute_dtype_object\n\u001b[0;32m   1144\u001b[0m ):\n\u001b[1;32m-> 1145\u001b[0m     outputs \u001b[38;5;241m=\u001b[39m call_fn(inputs, \u001b[38;5;241m*\u001b[39margs, \u001b[38;5;241m*\u001b[39m\u001b[38;5;241m*\u001b[39mkwargs)\n\u001b[0;32m   1147\u001b[0m \u001b[38;5;28;01mif\u001b[39;00m \u001b[38;5;28mself\u001b[39m\u001b[38;5;241m.\u001b[39m_activity_regularizer:\n\u001b[0;32m   1148\u001b[0m     \u001b[38;5;28mself\u001b[39m\u001b[38;5;241m.\u001b[39m_handle_activity_regularization(inputs, outputs)\n",
      "File \u001b[1;32m~\\AppData\\Local\\anaconda3\\lib\\site-packages\\keras\\utils\\traceback_utils.py:96\u001b[0m, in \u001b[0;36minject_argument_info_in_traceback.<locals>.error_handler\u001b[1;34m(*args, **kwargs)\u001b[0m\n\u001b[0;32m     94\u001b[0m bound_signature \u001b[38;5;241m=\u001b[39m \u001b[38;5;28;01mNone\u001b[39;00m\n\u001b[0;32m     95\u001b[0m \u001b[38;5;28;01mtry\u001b[39;00m:\n\u001b[1;32m---> 96\u001b[0m     \u001b[38;5;28;01mreturn\u001b[39;00m fn(\u001b[38;5;241m*\u001b[39margs, \u001b[38;5;241m*\u001b[39m\u001b[38;5;241m*\u001b[39mkwargs)\n\u001b[0;32m     97\u001b[0m \u001b[38;5;28;01mexcept\u001b[39;00m \u001b[38;5;167;01mException\u001b[39;00m \u001b[38;5;28;01mas\u001b[39;00m e:\n\u001b[0;32m     98\u001b[0m     \u001b[38;5;28;01mif\u001b[39;00m \u001b[38;5;28mhasattr\u001b[39m(e, \u001b[38;5;124m\"\u001b[39m\u001b[38;5;124m_keras_call_info_injected\u001b[39m\u001b[38;5;124m\"\u001b[39m):\n\u001b[0;32m     99\u001b[0m         \u001b[38;5;66;03m# Only inject info for the innermost failing call\u001b[39;00m\n",
      "File \u001b[1;32m~\\AppData\\Local\\anaconda3\\lib\\site-packages\\keras\\engine\\sequential.py:412\u001b[0m, in \u001b[0;36mSequential.call\u001b[1;34m(self, inputs, training, mask)\u001b[0m\n\u001b[0;32m    410\u001b[0m     \u001b[38;5;28;01mif\u001b[39;00m \u001b[38;5;129;01mnot\u001b[39;00m \u001b[38;5;28mself\u001b[39m\u001b[38;5;241m.\u001b[39mbuilt:\n\u001b[0;32m    411\u001b[0m         \u001b[38;5;28mself\u001b[39m\u001b[38;5;241m.\u001b[39m_init_graph_network(\u001b[38;5;28mself\u001b[39m\u001b[38;5;241m.\u001b[39minputs, \u001b[38;5;28mself\u001b[39m\u001b[38;5;241m.\u001b[39moutputs)\n\u001b[1;32m--> 412\u001b[0m     \u001b[38;5;28;01mreturn\u001b[39;00m \u001b[38;5;28;43msuper\u001b[39;49m\u001b[43m(\u001b[49m\u001b[43m)\u001b[49m\u001b[38;5;241;43m.\u001b[39;49m\u001b[43mcall\u001b[49m\u001b[43m(\u001b[49m\u001b[43minputs\u001b[49m\u001b[43m,\u001b[49m\u001b[43m \u001b[49m\u001b[43mtraining\u001b[49m\u001b[38;5;241;43m=\u001b[39;49m\u001b[43mtraining\u001b[49m\u001b[43m,\u001b[49m\u001b[43m \u001b[49m\u001b[43mmask\u001b[49m\u001b[38;5;241;43m=\u001b[39;49m\u001b[43mmask\u001b[49m\u001b[43m)\u001b[49m\n\u001b[0;32m    414\u001b[0m outputs \u001b[38;5;241m=\u001b[39m inputs  \u001b[38;5;66;03m# handle the corner case where self.layers is empty\u001b[39;00m\n\u001b[0;32m    415\u001b[0m \u001b[38;5;28;01mfor\u001b[39;00m layer \u001b[38;5;129;01min\u001b[39;00m \u001b[38;5;28mself\u001b[39m\u001b[38;5;241m.\u001b[39mlayers:\n\u001b[0;32m    416\u001b[0m     \u001b[38;5;66;03m# During each iteration, `inputs` are the inputs to `layer`, and\u001b[39;00m\n\u001b[0;32m    417\u001b[0m     \u001b[38;5;66;03m# `outputs` are the outputs of `layer` applied to `inputs`. At the\u001b[39;00m\n\u001b[0;32m    418\u001b[0m     \u001b[38;5;66;03m# end of each iteration `inputs` is set to `outputs` to prepare for\u001b[39;00m\n\u001b[0;32m    419\u001b[0m     \u001b[38;5;66;03m# the next layer.\u001b[39;00m\n",
      "File \u001b[1;32m~\\AppData\\Local\\anaconda3\\lib\\site-packages\\keras\\engine\\functional.py:512\u001b[0m, in \u001b[0;36mFunctional.call\u001b[1;34m(self, inputs, training, mask)\u001b[0m\n\u001b[0;32m    493\u001b[0m \u001b[38;5;129m@doc_controls\u001b[39m\u001b[38;5;241m.\u001b[39mdo_not_doc_inheritable\n\u001b[0;32m    494\u001b[0m \u001b[38;5;28;01mdef\u001b[39;00m \u001b[38;5;21mcall\u001b[39m(\u001b[38;5;28mself\u001b[39m, inputs, training\u001b[38;5;241m=\u001b[39m\u001b[38;5;28;01mNone\u001b[39;00m, mask\u001b[38;5;241m=\u001b[39m\u001b[38;5;28;01mNone\u001b[39;00m):\n\u001b[0;32m    495\u001b[0m     \u001b[38;5;124;03m\"\"\"Calls the model on new inputs.\u001b[39;00m\n\u001b[0;32m    496\u001b[0m \n\u001b[0;32m    497\u001b[0m \u001b[38;5;124;03m    In this case `call` just reapplies\u001b[39;00m\n\u001b[1;32m   (...)\u001b[0m\n\u001b[0;32m    510\u001b[0m \u001b[38;5;124;03m        a list of tensors if there are more than one outputs.\u001b[39;00m\n\u001b[0;32m    511\u001b[0m \u001b[38;5;124;03m    \"\"\"\u001b[39;00m\n\u001b[1;32m--> 512\u001b[0m     \u001b[38;5;28;01mreturn\u001b[39;00m \u001b[38;5;28;43mself\u001b[39;49m\u001b[38;5;241;43m.\u001b[39;49m\u001b[43m_run_internal_graph\u001b[49m\u001b[43m(\u001b[49m\u001b[43minputs\u001b[49m\u001b[43m,\u001b[49m\u001b[43m \u001b[49m\u001b[43mtraining\u001b[49m\u001b[38;5;241;43m=\u001b[39;49m\u001b[43mtraining\u001b[49m\u001b[43m,\u001b[49m\u001b[43m \u001b[49m\u001b[43mmask\u001b[49m\u001b[38;5;241;43m=\u001b[39;49m\u001b[43mmask\u001b[49m\u001b[43m)\u001b[49m\n",
      "File \u001b[1;32m~\\AppData\\Local\\anaconda3\\lib\\site-packages\\keras\\engine\\functional.py:669\u001b[0m, in \u001b[0;36mFunctional._run_internal_graph\u001b[1;34m(self, inputs, training, mask)\u001b[0m\n\u001b[0;32m    666\u001b[0m     \u001b[38;5;28;01mcontinue\u001b[39;00m  \u001b[38;5;66;03m# Node is not computable, try skipping.\u001b[39;00m\n\u001b[0;32m    668\u001b[0m args, kwargs \u001b[38;5;241m=\u001b[39m node\u001b[38;5;241m.\u001b[39mmap_arguments(tensor_dict)\n\u001b[1;32m--> 669\u001b[0m outputs \u001b[38;5;241m=\u001b[39m node\u001b[38;5;241m.\u001b[39mlayer(\u001b[38;5;241m*\u001b[39margs, \u001b[38;5;241m*\u001b[39m\u001b[38;5;241m*\u001b[39mkwargs)\n\u001b[0;32m    671\u001b[0m \u001b[38;5;66;03m# Update tensor_dict.\u001b[39;00m\n\u001b[0;32m    672\u001b[0m \u001b[38;5;28;01mfor\u001b[39;00m x_id, y \u001b[38;5;129;01min\u001b[39;00m \u001b[38;5;28mzip\u001b[39m(\n\u001b[0;32m    673\u001b[0m     node\u001b[38;5;241m.\u001b[39mflat_output_ids, tf\u001b[38;5;241m.\u001b[39mnest\u001b[38;5;241m.\u001b[39mflatten(outputs)\n\u001b[0;32m    674\u001b[0m ):\n",
      "File \u001b[1;32m~\\AppData\\Local\\anaconda3\\lib\\site-packages\\keras\\utils\\traceback_utils.py:65\u001b[0m, in \u001b[0;36mfilter_traceback.<locals>.error_handler\u001b[1;34m(*args, **kwargs)\u001b[0m\n\u001b[0;32m     63\u001b[0m filtered_tb \u001b[38;5;241m=\u001b[39m \u001b[38;5;28;01mNone\u001b[39;00m\n\u001b[0;32m     64\u001b[0m \u001b[38;5;28;01mtry\u001b[39;00m:\n\u001b[1;32m---> 65\u001b[0m     \u001b[38;5;28;01mreturn\u001b[39;00m fn(\u001b[38;5;241m*\u001b[39margs, \u001b[38;5;241m*\u001b[39m\u001b[38;5;241m*\u001b[39mkwargs)\n\u001b[0;32m     66\u001b[0m \u001b[38;5;28;01mexcept\u001b[39;00m \u001b[38;5;167;01mException\u001b[39;00m \u001b[38;5;28;01mas\u001b[39;00m e:\n\u001b[0;32m     67\u001b[0m     filtered_tb \u001b[38;5;241m=\u001b[39m _process_traceback_frames(e\u001b[38;5;241m.\u001b[39m__traceback__)\n",
      "File \u001b[1;32m~\\AppData\\Local\\anaconda3\\lib\\site-packages\\keras\\engine\\base_layer.py:1145\u001b[0m, in \u001b[0;36mLayer.__call__\u001b[1;34m(self, *args, **kwargs)\u001b[0m\n\u001b[0;32m   1140\u001b[0m     inputs \u001b[38;5;241m=\u001b[39m \u001b[38;5;28mself\u001b[39m\u001b[38;5;241m.\u001b[39m_maybe_cast_inputs(inputs, input_list)\n\u001b[0;32m   1142\u001b[0m \u001b[38;5;28;01mwith\u001b[39;00m autocast_variable\u001b[38;5;241m.\u001b[39menable_auto_cast_variables(\n\u001b[0;32m   1143\u001b[0m     \u001b[38;5;28mself\u001b[39m\u001b[38;5;241m.\u001b[39m_compute_dtype_object\n\u001b[0;32m   1144\u001b[0m ):\n\u001b[1;32m-> 1145\u001b[0m     outputs \u001b[38;5;241m=\u001b[39m call_fn(inputs, \u001b[38;5;241m*\u001b[39margs, \u001b[38;5;241m*\u001b[39m\u001b[38;5;241m*\u001b[39mkwargs)\n\u001b[0;32m   1147\u001b[0m \u001b[38;5;28;01mif\u001b[39;00m \u001b[38;5;28mself\u001b[39m\u001b[38;5;241m.\u001b[39m_activity_regularizer:\n\u001b[0;32m   1148\u001b[0m     \u001b[38;5;28mself\u001b[39m\u001b[38;5;241m.\u001b[39m_handle_activity_regularization(inputs, outputs)\n",
      "File \u001b[1;32m~\\AppData\\Local\\anaconda3\\lib\\site-packages\\keras\\utils\\traceback_utils.py:96\u001b[0m, in \u001b[0;36minject_argument_info_in_traceback.<locals>.error_handler\u001b[1;34m(*args, **kwargs)\u001b[0m\n\u001b[0;32m     94\u001b[0m bound_signature \u001b[38;5;241m=\u001b[39m \u001b[38;5;28;01mNone\u001b[39;00m\n\u001b[0;32m     95\u001b[0m \u001b[38;5;28;01mtry\u001b[39;00m:\n\u001b[1;32m---> 96\u001b[0m     \u001b[38;5;28;01mreturn\u001b[39;00m fn(\u001b[38;5;241m*\u001b[39margs, \u001b[38;5;241m*\u001b[39m\u001b[38;5;241m*\u001b[39mkwargs)\n\u001b[0;32m     97\u001b[0m \u001b[38;5;28;01mexcept\u001b[39;00m \u001b[38;5;167;01mException\u001b[39;00m \u001b[38;5;28;01mas\u001b[39;00m e:\n\u001b[0;32m     98\u001b[0m     \u001b[38;5;28;01mif\u001b[39;00m \u001b[38;5;28mhasattr\u001b[39m(e, \u001b[38;5;124m\"\u001b[39m\u001b[38;5;124m_keras_call_info_injected\u001b[39m\u001b[38;5;124m\"\u001b[39m):\n\u001b[0;32m     99\u001b[0m         \u001b[38;5;66;03m# Only inject info for the innermost failing call\u001b[39;00m\n",
      "File \u001b[1;32m~\\AppData\\Local\\anaconda3\\lib\\site-packages\\keras\\layers\\core\\dense.py:241\u001b[0m, in \u001b[0;36mDense.call\u001b[1;34m(self, inputs)\u001b[0m\n\u001b[0;32m    237\u001b[0m         outputs \u001b[38;5;241m=\u001b[39m tf\u001b[38;5;241m.\u001b[39mnn\u001b[38;5;241m.\u001b[39membedding_lookup_sparse(\n\u001b[0;32m    238\u001b[0m             \u001b[38;5;28mself\u001b[39m\u001b[38;5;241m.\u001b[39mkernel, ids, weights, combiner\u001b[38;5;241m=\u001b[39m\u001b[38;5;124m\"\u001b[39m\u001b[38;5;124msum\u001b[39m\u001b[38;5;124m\"\u001b[39m\n\u001b[0;32m    239\u001b[0m         )\n\u001b[0;32m    240\u001b[0m     \u001b[38;5;28;01melse\u001b[39;00m:\n\u001b[1;32m--> 241\u001b[0m         outputs \u001b[38;5;241m=\u001b[39m \u001b[43mtf\u001b[49m\u001b[38;5;241;43m.\u001b[39;49m\u001b[43mmatmul\u001b[49m\u001b[43m(\u001b[49m\u001b[43ma\u001b[49m\u001b[38;5;241;43m=\u001b[39;49m\u001b[43minputs\u001b[49m\u001b[43m,\u001b[49m\u001b[43m \u001b[49m\u001b[43mb\u001b[49m\u001b[38;5;241;43m=\u001b[39;49m\u001b[38;5;28;43mself\u001b[39;49m\u001b[38;5;241;43m.\u001b[39;49m\u001b[43mkernel\u001b[49m\u001b[43m)\u001b[49m\n\u001b[0;32m    242\u001b[0m \u001b[38;5;66;03m# Broadcast kernel to inputs.\u001b[39;00m\n\u001b[0;32m    243\u001b[0m \u001b[38;5;28;01melse\u001b[39;00m:\n\u001b[0;32m    244\u001b[0m     outputs \u001b[38;5;241m=\u001b[39m tf\u001b[38;5;241m.\u001b[39mtensordot(inputs, \u001b[38;5;28mself\u001b[39m\u001b[38;5;241m.\u001b[39mkernel, [[rank \u001b[38;5;241m-\u001b[39m \u001b[38;5;241m1\u001b[39m], [\u001b[38;5;241m0\u001b[39m]])\n",
      "File \u001b[1;32m~\\AppData\\Local\\anaconda3\\lib\\site-packages\\tensorflow\\python\\util\\traceback_utils.py:150\u001b[0m, in \u001b[0;36mfilter_traceback.<locals>.error_handler\u001b[1;34m(*args, **kwargs)\u001b[0m\n\u001b[0;32m    148\u001b[0m filtered_tb \u001b[38;5;241m=\u001b[39m \u001b[38;5;28;01mNone\u001b[39;00m\n\u001b[0;32m    149\u001b[0m \u001b[38;5;28;01mtry\u001b[39;00m:\n\u001b[1;32m--> 150\u001b[0m   \u001b[38;5;28;01mreturn\u001b[39;00m fn(\u001b[38;5;241m*\u001b[39margs, \u001b[38;5;241m*\u001b[39m\u001b[38;5;241m*\u001b[39mkwargs)\n\u001b[0;32m    151\u001b[0m \u001b[38;5;28;01mexcept\u001b[39;00m \u001b[38;5;167;01mException\u001b[39;00m \u001b[38;5;28;01mas\u001b[39;00m e:\n\u001b[0;32m    152\u001b[0m   filtered_tb \u001b[38;5;241m=\u001b[39m _process_traceback_frames(e\u001b[38;5;241m.\u001b[39m__traceback__)\n",
      "File \u001b[1;32m~\\AppData\\Local\\anaconda3\\lib\\site-packages\\tensorflow\\python\\util\\dispatch.py:1176\u001b[0m, in \u001b[0;36madd_dispatch_support.<locals>.decorator.<locals>.op_dispatch_handler\u001b[1;34m(*args, **kwargs)\u001b[0m\n\u001b[0;32m   1174\u001b[0m \u001b[38;5;66;03m# Fallback dispatch system (dispatch v1):\u001b[39;00m\n\u001b[0;32m   1175\u001b[0m \u001b[38;5;28;01mtry\u001b[39;00m:\n\u001b[1;32m-> 1176\u001b[0m   \u001b[38;5;28;01mreturn\u001b[39;00m dispatch_target(\u001b[38;5;241m*\u001b[39margs, \u001b[38;5;241m*\u001b[39m\u001b[38;5;241m*\u001b[39mkwargs)\n\u001b[0;32m   1177\u001b[0m \u001b[38;5;28;01mexcept\u001b[39;00m (\u001b[38;5;167;01mTypeError\u001b[39;00m, \u001b[38;5;167;01mValueError\u001b[39;00m):\n\u001b[0;32m   1178\u001b[0m   \u001b[38;5;66;03m# Note: convert_to_eager_tensor currently raises a ValueError, not a\u001b[39;00m\n\u001b[0;32m   1179\u001b[0m   \u001b[38;5;66;03m# TypeError, when given unexpected types.  So we need to catch both.\u001b[39;00m\n\u001b[0;32m   1180\u001b[0m   result \u001b[38;5;241m=\u001b[39m dispatch(op_dispatch_handler, args, kwargs)\n",
      "File \u001b[1;32m~\\AppData\\Local\\anaconda3\\lib\\site-packages\\tensorflow\\python\\ops\\math_ops.py:3766\u001b[0m, in \u001b[0;36mmatmul\u001b[1;34m(a, b, transpose_a, transpose_b, adjoint_a, adjoint_b, a_is_sparse, b_is_sparse, output_type, name)\u001b[0m\n\u001b[0;32m   3763\u001b[0m   \u001b[38;5;28;01mreturn\u001b[39;00m gen_math_ops\u001b[38;5;241m.\u001b[39mbatch_mat_mul_v3(\n\u001b[0;32m   3764\u001b[0m       a, b, adj_x\u001b[38;5;241m=\u001b[39madjoint_a, adj_y\u001b[38;5;241m=\u001b[39madjoint_b, Tout\u001b[38;5;241m=\u001b[39moutput_type, name\u001b[38;5;241m=\u001b[39mname)\n\u001b[0;32m   3765\u001b[0m \u001b[38;5;28;01melse\u001b[39;00m:\n\u001b[1;32m-> 3766\u001b[0m   \u001b[38;5;28;01mreturn\u001b[39;00m \u001b[43mgen_math_ops\u001b[49m\u001b[38;5;241;43m.\u001b[39;49m\u001b[43mmat_mul\u001b[49m\u001b[43m(\u001b[49m\n\u001b[0;32m   3767\u001b[0m \u001b[43m      \u001b[49m\u001b[43ma\u001b[49m\u001b[43m,\u001b[49m\u001b[43m \u001b[49m\u001b[43mb\u001b[49m\u001b[43m,\u001b[49m\u001b[43m \u001b[49m\u001b[43mtranspose_a\u001b[49m\u001b[38;5;241;43m=\u001b[39;49m\u001b[43mtranspose_a\u001b[49m\u001b[43m,\u001b[49m\u001b[43m \u001b[49m\u001b[43mtranspose_b\u001b[49m\u001b[38;5;241;43m=\u001b[39;49m\u001b[43mtranspose_b\u001b[49m\u001b[43m,\u001b[49m\u001b[43m \u001b[49m\u001b[43mname\u001b[49m\u001b[38;5;241;43m=\u001b[39;49m\u001b[43mname\u001b[49m\u001b[43m)\u001b[49m\n",
      "File \u001b[1;32m~\\AppData\\Local\\anaconda3\\lib\\site-packages\\tensorflow\\python\\ops\\gen_math_ops.py:6713\u001b[0m, in \u001b[0;36mmat_mul\u001b[1;34m(a, b, transpose_a, transpose_b, name)\u001b[0m\n\u001b[0;32m   6711\u001b[0m \u001b[38;5;28;01mif\u001b[39;00m tld\u001b[38;5;241m.\u001b[39mis_eager:\n\u001b[0;32m   6712\u001b[0m   \u001b[38;5;28;01mtry\u001b[39;00m:\n\u001b[1;32m-> 6713\u001b[0m     _result \u001b[38;5;241m=\u001b[39m \u001b[43mpywrap_tfe\u001b[49m\u001b[38;5;241;43m.\u001b[39;49m\u001b[43mTFE_Py_FastPathExecute\u001b[49m\u001b[43m(\u001b[49m\n\u001b[0;32m   6714\u001b[0m \u001b[43m      \u001b[49m\u001b[43m_ctx\u001b[49m\u001b[43m,\u001b[49m\u001b[43m \u001b[49m\u001b[38;5;124;43m\"\u001b[39;49m\u001b[38;5;124;43mMatMul\u001b[39;49m\u001b[38;5;124;43m\"\u001b[39;49m\u001b[43m,\u001b[49m\u001b[43m \u001b[49m\u001b[43mname\u001b[49m\u001b[43m,\u001b[49m\u001b[43m \u001b[49m\u001b[43ma\u001b[49m\u001b[43m,\u001b[49m\u001b[43m \u001b[49m\u001b[43mb\u001b[49m\u001b[43m,\u001b[49m\u001b[43m \u001b[49m\u001b[38;5;124;43m\"\u001b[39;49m\u001b[38;5;124;43mtranspose_a\u001b[39;49m\u001b[38;5;124;43m\"\u001b[39;49m\u001b[43m,\u001b[49m\u001b[43m \u001b[49m\u001b[43mtranspose_a\u001b[49m\u001b[43m,\u001b[49m\u001b[43m \u001b[49m\u001b[38;5;124;43m\"\u001b[39;49m\u001b[38;5;124;43mtranspose_b\u001b[39;49m\u001b[38;5;124;43m\"\u001b[39;49m\u001b[43m,\u001b[49m\n\u001b[0;32m   6715\u001b[0m \u001b[43m      \u001b[49m\u001b[43mtranspose_b\u001b[49m\u001b[43m)\u001b[49m\n\u001b[0;32m   6716\u001b[0m     \u001b[38;5;28;01mreturn\u001b[39;00m _result\n\u001b[0;32m   6717\u001b[0m   \u001b[38;5;28;01mexcept\u001b[39;00m _core\u001b[38;5;241m.\u001b[39m_NotOkStatusException \u001b[38;5;28;01mas\u001b[39;00m e:\n",
      "\u001b[1;31mKeyboardInterrupt\u001b[0m: "
     ]
    }
   ],
   "source": [
    "\n",
    "for i in tqdm(range(1000)):\n",
    "    Xtr2,Ytr2 = createDataModel(1000,model)\n",
    "    model.fit(Xtr2, Ytr2,\n",
    "              batch_size=100,\n",
    "              epochs=1,\n",
    "              verbose=2,\n",
    "             )\n",
    "    model.save('model_moves30_mixed01_more_training.h5')\n"
   ]
  },
  {
   "cell_type": "code",
   "execution_count": null,
   "id": "a7c4afe3",
   "metadata": {},
   "outputs": [],
   "source": [
    "board"
   ]
  },
  {
   "cell_type": "code",
   "execution_count": null,
   "id": "c3f27f99",
   "metadata": {},
   "outputs": [],
   "source": [
    "def randomize_dense_layers(model,learning_rate,layers=[5,6,7,8,9,10,11]):\n",
    "    for index in layers:\n",
    "        n = len(model.layers[index].get_weights()[0])\n",
    "        m = len(model.layers[index].get_weights()[0][0])\n",
    "        w= model.layers[index].get_weights()[0] + learning_rate*np.random.normal(size = (n,m))\n",
    "        n = len(model.layers[index].get_weights()[1])\n",
    "        b = model.layers[index].get_weights()[1]+learning_rate*np.random.normal(size = n)\n",
    "\n",
    "        model.layers[index].set_weights([w,b])\n",
    "def clone_weights(model_unchanged=None,model_changed=None):\n",
    "    model_changed.set_weights(model.get_weights())\n",
    "def clone_model(model):\n",
    "    model_copy = keras.models.clone_model(model)\n",
    "    model_copy.set_weights(model.get_weights())\n",
    "    return model_copy"
   ]
  },
  {
   "cell_type": "code",
   "execution_count": null,
   "id": "5129ad8c",
   "metadata": {},
   "outputs": [],
   "source": []
  },
  {
   "cell_type": "code",
   "execution_count": null,
   "id": "ff53bc09",
   "metadata": {},
   "outputs": [],
   "source": [
    "class genetic_training:\n",
    "    #TODO layers input\n",
    "    def __init__(self, n = 20, og_model= None,models=None,depth =1,adaptive_learning_rate =True,learning_rate=1e4):\n",
    "        self.models = []\n",
    "        for i in range(n):\n",
    "            self.models.append(clone_model(og_model))\n",
    "        self.depth = 1\n",
    "        self.adaptive_learning_rate = adaptive_learning_rate\n",
    "        self.learning_rate = learning_rate\n",
    "    def get_models(self):\n",
    "        return self.models\n",
    "    def getModelSplit(self,scoreDict,percentRepoduce=.4):\n",
    "        sortedModels=dict(sorted(scoreDict.items(),key= lambda x:x[1]))\n",
    "        return list(sortedModels.keys())[0:int(len(sortedModels.items())*percentRepoduce)],list(sortedModels.keys())[int(len(sortedModels.items())*percentRepoduce):]\n",
    "    \n",
    "    def learn(self,scores):\n",
    "        #good_models,bad_models = self.getModelSplit(scores)\n",
    "        bad_models,good_models=self.getModelSplit(scores)\n",
    "        print(scores)\n",
    "        print(good_models[0])\n",
    "        '''\n",
    "        if self.adaptive_learning_rate:\n",
    "            avgScore = np.mean(np.array(list(scores.values())))\n",
    "            bestScore = np.min(np.array(list(scores.values())))\n",
    "            ratio = bestScore/avgScore\n",
    "\n",
    "\n",
    "            if ratio > self.ALRIthres:\n",
    "                self.learningRate = min(self.learningRate*self.ALRI,1)\n",
    "                if verbose > 0:\n",
    "                    print(\"Increasing Learning Rate to \" + str(self.learningRate))\n",
    "            elif ratio < self.ALRDthres:\n",
    "                self.learningRate =max(self.learningRate*self.ALRD,1e-11)\n",
    "                if verbose > 0:\n",
    "                    print(\"Decreasing Learning Rate to \" + str(self.learningRate))\n",
    "        '''\n",
    "\n",
    "                    \n",
    "                    \n",
    "        #this is the actual learning part.  \n",
    "        for model in self.models:\n",
    "            if model in bad_models:\n",
    "                #TODO hyperparmater\n",
    "                if random.random() > .8:\n",
    "                    randomize_dense_layers(model,self.learning_rate)\n",
    "                else:\n",
    "                    good_model = good_models[int(random.random()*(len(good_models)-1))]\n",
    "                    clone_weights(model_unchanged=good_model, model_changed=model)\n",
    "                    randomize_dense_layers(model,self.learning_rate)\n",
    "                    \n",
    "    def iteration(self,number_of_rounds=1):\n",
    "        scores = {}\n",
    "        total_number_of_games = number_of_rounds* len(self.models)*(len(self.models)-1)\n",
    "        total_games_played = 0\n",
    "        avg_time = []\n",
    "        for i in range(len(self.models)):\n",
    "            scores[self.models[i]] = 0\n",
    "        \n",
    "        for round_i in range(number_of_rounds):\n",
    "            for model_index in range(len(self.models)):  \n",
    "                for opp_index in range(len(self.models)):\n",
    "                    if model_index == opp_index:\n",
    "                        continue\n",
    "                    start = time.time()\n",
    "                    result = play_game(self.models[model_index],self.models[opp_index])\n",
    "                    scores[self.models[model_index]] =  scores[self.models[model_index]] + result\n",
    "                    scores[self.models[opp_index]] =  scores[self.models[opp_index]] + (1-result)\n",
    "                    end = time.time()\n",
    "                    diff = round(end-start,2)\n",
    "                    total_games_played = total_games_played +1\n",
    "                    avg_time.append(diff)\n",
    "                    print()\n",
    "                    print(\"Percent Done: \" + str(round(100*total_games_played/total_number_of_games,4))+ \"%\")\n",
    "                    print(\"Last iteration: \" + str(diff) + \" seconds\")\n",
    "                    print(\"Avg iteration: \" + str(round(np.mean(avg_time),4))+ \" seconds\")\n",
    "                    print(\"EST from avg: \" + str(round(np.mean(avg_time)*(total_number_of_games-total_games_played),4)) + \" seconds\")\n",
    "        self.learn(scores)\n",
    "            \n",
    "        "
   ]
  },
  {
   "cell_type": "code",
   "execution_count": null,
   "id": "6e44839a",
   "metadata": {},
   "outputs": [],
   "source": [
    "def play_game(model_white,model_black,depth=1,verbose=0,board = chess.Board(),number_of_random_moves=2,maxMoves=100):\n",
    "    isBlack = False\n",
    "    board = chess.Board()\n",
    "    moves = list(board.legal_moves)\n",
    "    move_counter = 0\n",
    "    for i in range(number_of_random_moves):\n",
    "        moves = list(board.legal_moves)\n",
    "        move =random.choice(moves)\n",
    "        board.push(move)\n",
    "        isBlack=not isBlack\n",
    "        \n",
    "    moves = list(board.legal_moves)    \n",
    "    while not board.is_game_over():\n",
    "        if len(moves) == 0:\n",
    "            return .5\n",
    "        if isBlack:\n",
    "            e,move = getModelMove(board,model_black,isBlack,depth=depth)\n",
    "        else:\n",
    "            e,move = getModelMove(board,model_white,isBlack,depth=depth)\n",
    "            \n",
    "        \n",
    "        if move == None:\n",
    "            print(getModelMove(board,model_black,True,depth=depth))\n",
    "            print(getModelMove(board,model_white,True,depth=depth))\n",
    "            print(board)\n",
    "            print(moves)\n",
    "\n",
    "        board.push(move)\n",
    "        moves = list(board.legal_moves)\n",
    "        isBlack = not isBlack\n",
    "        move_counter = move_counter + 1\n",
    "        if move_counter > maxMoves:\n",
    "            return .5   \n",
    "        if verbose >= 2:\n",
    "            print(move_counter)\n",
    "            \n",
    "            \n",
    "            \n",
    "    if board.is_checkmate():\n",
    "        if isBlack:\n",
    "            if verbose >= 1:\n",
    "                print(\"Black Won\")     \n",
    "            return 0\n",
    "        else:\n",
    "            if verbose >= 1:\n",
    "                print(\"White Won\")\n",
    "            return 1\n",
    "    else:\n",
    "        if verbose >= 1:\n",
    "            print(\"Draw\")\n",
    "        return .5\n",
    "        \n"
   ]
  },
  {
   "cell_type": "code",
   "execution_count": null,
   "id": "ec73fca7",
   "metadata": {},
   "outputs": [],
   "source": []
  },
  {
   "cell_type": "code",
   "execution_count": null,
   "id": "fe182093",
   "metadata": {
    "scrolled": true
   },
   "outputs": [],
   "source": [
    "gt.iteration(number_of_rounds=3)"
   ]
  },
  {
   "cell_type": "code",
   "execution_count": null,
   "id": "c33b4485",
   "metadata": {},
   "outputs": [],
   "source": [
    "gt.iteration(number_of_rounds=1)"
   ]
  },
  {
   "cell_type": "code",
   "execution_count": null,
   "id": "9411f4f5",
   "metadata": {},
   "outputs": [],
   "source": [
    "gt =genetic_training(n=5,og_model=model)"
   ]
  },
  {
   "cell_type": "code",
   "execution_count": null,
   "id": "8e6260f7",
   "metadata": {},
   "outputs": [],
   "source": [
    "board =chess.Board()\n",
    "isBlack = True\n",
    "moves = list(board.legal_moves)"
   ]
  },
  {
   "cell_type": "code",
   "execution_count": null,
   "id": "3ddd2bcb",
   "metadata": {},
   "outputs": [],
   "source": [
    "evaluation, AImove =  getModelMove(board,model,isBlack,depth=1)\n",
    "print(evaluation)\n",
    "evaluation, AImove =  getModelMove(board,model_copy,isBlack,depth=1)\n",
    "print(evaluation)"
   ]
  },
  {
   "cell_type": "code",
   "execution_count": null,
   "id": "f78c2b68",
   "metadata": {},
   "outputs": [],
   "source": [
    "board =chess.Board()\n",
    "a,moves =play_game(model2,model,board=board,depth =1)\n"
   ]
  },
  {
   "cell_type": "code",
   "execution_count": null,
   "id": "bbd6b464",
   "metadata": {},
   "outputs": [],
   "source": [
    "print(moves)"
   ]
  },
  {
   "cell_type": "code",
   "execution_count": null,
   "id": "43aa2762",
   "metadata": {},
   "outputs": [],
   "source": [
    "board"
   ]
  },
  {
   "cell_type": "code",
   "execution_count": null,
   "id": "eece7bbe",
   "metadata": {},
   "outputs": [],
   "source": []
  }
 ],
 "metadata": {
  "kernelspec": {
   "display_name": "Python 3 (ipykernel)",
   "language": "python",
   "name": "python3"
  },
  "language_info": {
   "codemirror_mode": {
    "name": "ipython",
    "version": 3
   },
   "file_extension": ".py",
   "mimetype": "text/x-python",
   "name": "python",
   "nbconvert_exporter": "python",
   "pygments_lexer": "ipython3",
   "version": "3.10.9"
  }
 },
 "nbformat": 4,
 "nbformat_minor": 5
}

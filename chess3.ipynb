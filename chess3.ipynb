{
 "cells": [
  {
   "cell_type": "markdown",
   "id": "f4a79485",
   "metadata": {},
   "source": [
    "### Description\n",
    "This workbook will train a chess AI. It will use a combination of first backwards propagation and then genetic algorithms.  "
   ]
  },
  {
   "cell_type": "markdown",
   "id": "494a75b9",
   "metadata": {},
   "source": [
    "Imports"
   ]
  },
  {
   "cell_type": "code",
   "execution_count": 2,
   "id": "da341e47",
   "metadata": {},
   "outputs": [],
   "source": [
    "import tensorflow as tf\n",
    "import numpy as np\n",
    "import matplotlib.pyplot as plt\n",
    "from tqdm import tqdm\n",
    "import chess.engine\n",
    "import chess\n",
    "import random\n",
    "from tensorflow.keras import datasets, layers, models"
   ]
  },
  {
   "cell_type": "markdown",
   "id": "46e12f26",
   "metadata": {},
   "source": [
    "Before we create data we have to do some set up.  The plan is to have a 2d input each with a 13 hot vector.  (I chose 13 instead of 12 because I think probably will help teach the format of the board.  Of course you should leave one out in other applications because of the multicollinearity issue)."
   ]
  },
  {
   "cell_type": "code",
   "execution_count": 3,
   "id": "e8f8f888",
   "metadata": {},
   "outputs": [],
   "source": [
    "#input: chess board objects\n",
    "#output 8,8,13 nparray\n",
    "def boardToInput(board):\n",
    "    #I should probably make this a np array but I will have to test if it is faster\n",
    "    pieces = ['.','r','n','b','q','k','p','P','R','N','B','Q','K']\n",
    "    #stringify the board\n",
    "    string = str(board)\n",
    "    #each col and row has a 13 1 hot vector of the current piece as set in the pieces variable\n",
    "    arr= np.zeros(shape=(8,8,13))\n",
    "    row = 0\n",
    "    col = 0    \n",
    "    #I know this is stupid we are doing this so many times I don't want to call len(string)\n",
    "    for indexer in range(127):\n",
    "        #Skip the spaces\n",
    "        if string[indexer] == ' ':\n",
    "            continue\n",
    "        #This means we are about to move on to a new col\n",
    "        if string[indexer] == '\\n':\n",
    "            col = 0\n",
    "            row = row + 1\n",
    "            continue        \n",
    "        arr[row][col][pieces.index(string[indexer])] = 1\n",
    "        col  = col + 1            \n",
    "    return arr\n",
    "            "
   ]
  },
  {
   "cell_type": "markdown",
   "id": "ed0e3942",
   "metadata": {},
   "source": [
    "These methods will return np arrays of X and Y.  createData will have Y as the engines eval of the position"
   ]
  },
  {
   "cell_type": "code",
   "execution_count": 65,
   "id": "0348f7e4",
   "metadata": {},
   "outputs": [],
   "source": [
    "#Quick method to convert pychess evaluations to floats\n",
    "def valueToFloat(val):\n",
    "    #This is emperically the min and the max that I found for each.  Normalized theses\n",
    "    minEvaluation = -1500\n",
    "    maxEvaluation = 1500\n",
    "\n",
    "    string = str(val)\n",
    "    val = 0\n",
    "    \n",
    "    if '#' in string:\n",
    "        if string[1] == '+':\n",
    "            return 1\n",
    "        elif string[1] == '-':\n",
    "            return 0\n",
    "    val = float(string)\n",
    "    val = (val - minEvaluation)/(maxEvaluation-minEvaluation)\n",
    "    if val < 0:\n",
    "        val = 0\n",
    "    if val > 1:\n",
    "        val = 1\n",
    "    return val\n",
    "    #return val\n",
    "def createData(n,engine): \n",
    "    X = np.zeros((n,8,8,13))\n",
    "    Y = np.zeros(n)\n",
    "    isBlack = False\n",
    "    board = chess.Board()\n",
    "    for i in tqdm(range(n)):\n",
    "        isBlack = not isBlack\n",
    "        if board.outcome() != None: \n",
    "            board=chess.Board()\n",
    "            isBlack = False\n",
    "        val = valueToFloat(engine.analyse(board, chess.engine.Limit(depth=1))['score'].white())\n",
    "        X[i] = (boardToInput(board))\n",
    "        Y[i] = val\n",
    "        moves = list(board.legal_moves)\n",
    "        if random.random() > .1:\n",
    "            move = random.choice(moves)\n",
    "        else:\n",
    "            move =getMoveEngine(board,moves,isBlack)\n",
    "        board.push(move)\n",
    "    return X, Y\n",
    "\n",
    "\n",
    "\n",
    "def createDataAutoEncoder(n,engine): \n",
    "    X = np.zeros((n,8,8,13))\n",
    "    Y = np.zeros(n)\n",
    "    board = chess.Board()\n",
    "    for i in tqdm(range(n)):\n",
    "        if board.outcome() != None: \n",
    "            board=chess.Board()\n",
    "        val = valueToFloat(engine.analyse(board, chess.engine.Limit(depth=1))['score'].white())\n",
    "        X[i] = boardToInput(board)\n",
    "        Y[i] = val\n",
    "        moves = list(board.legal_moves)\n",
    "        move = random.choice(moves)\n",
    "        board.push(move)\n",
    "    return X, Y\n",
    "\n",
    "\n",
    "def getMoveEngine(board,moves,isBlack):\n",
    "    bestEval = -5000\n",
    "    bestMove = moves[0]\n",
    "    for move in moves:\n",
    "        board.push(move)\n",
    "        val = valueToFloat(engine.analyse(board, chess.engine.Limit(depth=1))['score'].white())\n",
    "        if isBlack:\n",
    "            val =val*-1\n",
    "        if val > bestEval:\n",
    "            bestMove = move\n",
    "            bestEval = val\n",
    "        board.pop()\n",
    "    return bestMove\n"
   ]
  },
  {
   "cell_type": "markdown",
   "id": "72c4fea8",
   "metadata": {},
   "source": [
    "Now we should actaully create the training and testing data."
   ]
  },
  {
   "cell_type": "code",
   "execution_count": 66,
   "id": "394cc05e",
   "metadata": {},
   "outputs": [],
   "source": [
    "engine = chess.engine.SimpleEngine.popen_uci(\".\\\\stockfish\\\\stockfish_15.1_win_x64_avx2\\\\stockfish.exe\")"
   ]
  },
  {
   "cell_type": "code",
   "execution_count": 73,
   "id": "c3cc0324",
   "metadata": {},
   "outputs": [
    {
     "name": "stderr",
     "output_type": "stream",
     "text": [
      "100%|█████████████████████████████████████████████████████████████████████| 1000000/1000000 [1:14:31<00:00, 223.64it/s]\n",
      " 98%|███████████████████████████████████████████████████████████████████████▍ | 195857/200000 [15:37<00:19, 209.01it/s]\n",
      "\n",
      "KeyboardInterrupt\n",
      "\n"
     ]
    }
   ],
   "source": [
    "training_size = 1000000\n",
    "testing_size = int(training_size*.2)\n",
    "Xtr, Ytr = createData(training_size,engine)\n",
    "Xte, Yte = createData(testing_size,engine)"
   ]
  },
  {
   "cell_type": "code",
   "execution_count": 72,
   "id": "423ab7ef",
   "metadata": {},
   "outputs": [
    {
     "data": {
      "image/png": "[encoded data removed]",
      "text/plain": [
       "<Figure size 640x480 with 1 Axes>"
      ]
     },
     "metadata": {},
     "output_type": "display_data"
    }
   ],
   "source": [
    "plt.hist(Ytr,bins=100)\n",
    "plt.show()"
   ]
  },
  {
   "cell_type": "markdown",
   "id": "da899bd7",
   "metadata": {},
   "source": [
    "### Creating the model\n",
    "To start we will train a basic model with these parameters:\n",
    "3"
   ]
  },
  {
   "cell_type": "code",
   "execution_count": 75,
   "id": "9272ebd1",
   "metadata": {},
   "outputs": [
    {
     "name": "stdout",
     "output_type": "stream",
     "text": [
      "Model: \"sequential_11\"\n",
      "_________________________________________________________________\n",
      " Layer (type)                Output Shape              Param #   \n",
      "=================================================================\n",
      " conv2d_44 (Conv2D)          (None, 8, 8, 32)          3776      \n",
      "                                                                 \n",
      " conv2d_45 (Conv2D)          (None, 8, 8, 32)          9248      \n",
      "                                                                 \n",
      " conv2d_46 (Conv2D)          (None, 8, 8, 32)          9248      \n",
      "                                                                 \n",
      " conv2d_47 (Conv2D)          (None, 8, 8, 32)          9248      \n",
      "                                                                 \n",
      " flatten_11 (Flatten)        (None, 2048)              0         \n",
      "                                                                 \n",
      " dense_31 (Dense)            (None, 64)                131136    \n",
      "                                                                 \n",
      " dense_32 (Dense)            (None, 128)               8320      \n",
      "                                                                 \n",
      " dense_33 (Dense)            (None, 64)                8256      \n",
      "                                                                 \n",
      " dense_34 (Dense)            (None, 128)               8320      \n",
      "                                                                 \n",
      " dense_35 (Dense)            (None, 64)                8256      \n",
      "                                                                 \n",
      " dense_36 (Dense)            (None, 32)                2080      \n",
      "                                                                 \n",
      " dense_37 (Dense)            (None, 1)                 33        \n",
      "                                                                 \n",
      "=================================================================\n",
      "Total params: 197,921\n",
      "Trainable params: 197,921\n",
      "Non-trainable params: 0\n",
      "_________________________________________________________________\n"
     ]
    }
   ],
   "source": [
    "model = models.Sequential()\n",
    "model.add(layers.Input(shape=(8, 8, 13)))\n",
    "#model.add(layers.Conv2D(64, (8, 3), activation='relu', input_shape=(8, 8, 13)))\n",
    "model.add(layers.Conv2D(filters=32, kernel_size=3, padding='same', activation='relu'))\n",
    "model.add(layers.Conv2D(filters=32, kernel_size=3, padding='same', activation='relu'))\n",
    "model.add(layers.Conv2D(filters=32, kernel_size=3, padding='same', activation='relu'))\n",
    "model.add(layers.Conv2D(filters=32, kernel_size=3, padding='same', activation='relu'))\n",
    "model.add(layers.Flatten())\n",
    "model.add(layers.Dense(64, activation=tf.nn.relu))\n",
    "model.add(layers.Dense(128, activation=tf.nn.relu))\n",
    "model.add(layers.Dense(64, activation=tf.nn.relu))\n",
    "model.add(layers.Dense(128, activation=tf.nn.relu))\n",
    "model.add(layers.Dense(64, activation=tf.nn.relu))\n",
    "model.add(layers.Dense(32, activation=tf.nn.relu))\n",
    "model.add(layers.Dense(1))\n",
    "model.summary()"
   ]
  },
  {
   "cell_type": "code",
   "execution_count": null,
   "id": "5a784c57",
   "metadata": {},
   "outputs": [
    {
     "name": "stdout",
     "output_type": "stream",
     "text": [
      "Epoch 1/500\n",
      "90/90 [==============================] - ETA: 0s - loss: 0.0169"
     ]
    },
    {
     "name": "stderr",
     "output_type": "stream",
     "text": [
      "WARNING:absl:Found untraced functions such as _jit_compiled_convolution_op, _jit_compiled_convolution_op, _jit_compiled_convolution_op, _jit_compiled_convolution_op, _update_step_xla while saving (showing 5 of 5). These functions will not be directly callable after loading.\n"
     ]
    },
    {
     "name": "stdout",
     "output_type": "stream",
     "text": [
      "INFO:tensorflow:Assets written to: /tmp/checkpoint\\assets\n"
     ]
    },
    {
     "name": "stderr",
     "output_type": "stream",
     "text": [
      "INFO:tensorflow:Assets written to: /tmp/checkpoint\\assets\n"
     ]
    },
    {
     "name": "stdout",
     "output_type": "stream",
     "text": [
      "90/90 [==============================] - 129s 1s/step - loss: 0.0169 - val_loss: 0.0140 - lr: 1.0000e-04\n",
      "Epoch 2/500\n",
      "90/90 [==============================] - ETA: 0s - loss: 0.0140"
     ]
    },
    {
     "name": "stderr",
     "output_type": "stream",
     "text": [
      "WARNING:absl:Found untraced functions such as _jit_compiled_convolution_op, _jit_compiled_convolution_op, _jit_compiled_convolution_op, _jit_compiled_convolution_op, _update_step_xla while saving (showing 5 of 5). These functions will not be directly callable after loading.\n"
     ]
    },
    {
     "name": "stdout",
     "output_type": "stream",
     "text": [
      "INFO:tensorflow:Assets written to: /tmp/checkpoint\\assets\n"
     ]
    },
    {
     "name": "stderr",
     "output_type": "stream",
     "text": [
      "INFO:tensorflow:Assets written to: /tmp/checkpoint\\assets\n"
     ]
    },
    {
     "name": "stdout",
     "output_type": "stream",
     "text": [
      "90/90 [==============================] - 137s 2s/step - loss: 0.0140 - val_loss: 0.0139 - lr: 1.0000e-04\n",
      "Epoch 3/500\n",
      "90/90 [==============================] - ETA: 0s - loss: 0.0139"
     ]
    },
    {
     "name": "stderr",
     "output_type": "stream",
     "text": [
      "WARNING:absl:Found untraced functions such as _jit_compiled_convolution_op, _jit_compiled_convolution_op, _jit_compiled_convolution_op, _jit_compiled_convolution_op, _update_step_xla while saving (showing 5 of 5). These functions will not be directly callable after loading.\n"
     ]
    },
    {
     "name": "stdout",
     "output_type": "stream",
     "text": [
      "INFO:tensorflow:Assets written to: /tmp/checkpoint\\assets\n"
     ]
    },
    {
     "name": "stderr",
     "output_type": "stream",
     "text": [
      "INFO:tensorflow:Assets written to: /tmp/checkpoint\\assets\n"
     ]
    },
    {
     "name": "stdout",
     "output_type": "stream",
     "text": [
      "90/90 [==============================] - 124s 1s/step - loss: 0.0139 - val_loss: 0.0138 - lr: 1.0000e-04\n",
      "Epoch 4/500\n",
      "90/90 [==============================] - ETA: 0s - loss: 0.0138"
     ]
    },
    {
     "name": "stderr",
     "output_type": "stream",
     "text": [
      "WARNING:absl:Found untraced functions such as _jit_compiled_convolution_op, _jit_compiled_convolution_op, _jit_compiled_convolution_op, _jit_compiled_convolution_op, _update_step_xla while saving (showing 5 of 5). These functions will not be directly callable after loading.\n"
     ]
    },
    {
     "name": "stdout",
     "output_type": "stream",
     "text": [
      "INFO:tensorflow:Assets written to: /tmp/checkpoint\\assets\n"
     ]
    },
    {
     "name": "stderr",
     "output_type": "stream",
     "text": [
      "INFO:tensorflow:Assets written to: /tmp/checkpoint\\assets\n"
     ]
    },
    {
     "name": "stdout",
     "output_type": "stream",
     "text": [
      "90/90 [==============================] - 123s 1s/step - loss: 0.0138 - val_loss: 0.0136 - lr: 1.0000e-04\n",
      "Epoch 5/500\n",
      "90/90 [==============================] - ETA: 0s - loss: 0.0136"
     ]
    },
    {
     "name": "stderr",
     "output_type": "stream",
     "text": [
      "WARNING:absl:Found untraced functions such as _jit_compiled_convolution_op, _jit_compiled_convolution_op, _jit_compiled_convolution_op, _jit_compiled_convolution_op, _update_step_xla while saving (showing 5 of 5). These functions will not be directly callable after loading.\n"
     ]
    },
    {
     "name": "stdout",
     "output_type": "stream",
     "text": [
      "INFO:tensorflow:Assets written to: /tmp/checkpoint\\assets\n"
     ]
    },
    {
     "name": "stderr",
     "output_type": "stream",
     "text": [
      "INFO:tensorflow:Assets written to: /tmp/checkpoint\\assets\n"
     ]
    },
    {
     "name": "stdout",
     "output_type": "stream",
     "text": [
      "90/90 [==============================] - 121s 1s/step - loss: 0.0136 - val_loss: 0.0135 - lr: 1.0000e-04\n",
      "Epoch 6/500\n",
      "90/90 [==============================] - ETA: 0s - loss: 0.0135"
     ]
    },
    {
     "name": "stderr",
     "output_type": "stream",
     "text": [
      "WARNING:absl:Found untraced functions such as _jit_compiled_convolution_op, _jit_compiled_convolution_op, _jit_compiled_convolution_op, _jit_compiled_convolution_op, _update_step_xla while saving (showing 5 of 5). These functions will not be directly callable after loading.\n"
     ]
    },
    {
     "name": "stdout",
     "output_type": "stream",
     "text": [
      "INFO:tensorflow:Assets written to: /tmp/checkpoint\\assets\n"
     ]
    },
    {
     "name": "stderr",
     "output_type": "stream",
     "text": [
      "INFO:tensorflow:Assets written to: /tmp/checkpoint\\assets\n"
     ]
    },
    {
     "name": "stdout",
     "output_type": "stream",
     "text": [
      "90/90 [==============================] - 121s 1s/step - loss: 0.0135 - val_loss: 0.0134 - lr: 1.0000e-04\n",
      "Epoch 7/500\n",
      "90/90 [==============================] - ETA: 0s - loss: 0.0134"
     ]
    },
    {
     "name": "stderr",
     "output_type": "stream",
     "text": [
      "WARNING:absl:Found untraced functions such as _jit_compiled_convolution_op, _jit_compiled_convolution_op, _jit_compiled_convolution_op, _jit_compiled_convolution_op, _update_step_xla while saving (showing 5 of 5). These functions will not be directly callable after loading.\n"
     ]
    },
    {
     "name": "stdout",
     "output_type": "stream",
     "text": [
      "INFO:tensorflow:Assets written to: /tmp/checkpoint\\assets\n"
     ]
    },
    {
     "name": "stderr",
     "output_type": "stream",
     "text": [
      "INFO:tensorflow:Assets written to: /tmp/checkpoint\\assets\n"
     ]
    },
    {
     "name": "stdout",
     "output_type": "stream",
     "text": [
      "90/90 [==============================] - 122s 1s/step - loss: 0.0134 - val_loss: 0.0133 - lr: 1.0000e-04\n",
      "Epoch 8/500\n",
      "90/90 [==============================] - ETA: 0s - loss: 0.0132"
     ]
    },
    {
     "name": "stderr",
     "output_type": "stream",
     "text": [
      "WARNING:absl:Found untraced functions such as _jit_compiled_convolution_op, _jit_compiled_convolution_op, _jit_compiled_convolution_op, _jit_compiled_convolution_op, _update_step_xla while saving (showing 5 of 5). These functions will not be directly callable after loading.\n"
     ]
    },
    {
     "name": "stdout",
     "output_type": "stream",
     "text": [
      "INFO:tensorflow:Assets written to: /tmp/checkpoint\\assets\n"
     ]
    },
    {
     "name": "stderr",
     "output_type": "stream",
     "text": [
      "INFO:tensorflow:Assets written to: /tmp/checkpoint\\assets\n"
     ]
    },
    {
     "name": "stdout",
     "output_type": "stream",
     "text": [
      "90/90 [==============================] - 127s 1s/step - loss: 0.0132 - val_loss: 0.0131 - lr: 1.0000e-04\n",
      "Epoch 9/500\n",
      "90/90 [==============================] - ETA: 0s - loss: 0.0132"
     ]
    },
    {
     "name": "stderr",
     "output_type": "stream",
     "text": [
      "WARNING:absl:Found untraced functions such as _jit_compiled_convolution_op, _jit_compiled_convolution_op, _jit_compiled_convolution_op, _jit_compiled_convolution_op, _update_step_xla while saving (showing 5 of 5). These functions will not be directly callable after loading.\n"
     ]
    },
    {
     "name": "stdout",
     "output_type": "stream",
     "text": [
      "INFO:tensorflow:Assets written to: /tmp/checkpoint\\assets\n"
     ]
    },
    {
     "name": "stderr",
     "output_type": "stream",
     "text": [
      "INFO:tensorflow:Assets written to: /tmp/checkpoint\\assets\n"
     ]
    },
    {
     "name": "stdout",
     "output_type": "stream",
     "text": [
      "90/90 [==============================] - 173s 2s/step - loss: 0.0132 - val_loss: 0.0130 - lr: 1.0000e-04\n",
      "Epoch 10/500\n",
      "90/90 [==============================] - ETA: 0s - loss: 0.0130"
     ]
    },
    {
     "name": "stderr",
     "output_type": "stream",
     "text": [
      "WARNING:absl:Found untraced functions such as _jit_compiled_convolution_op, _jit_compiled_convolution_op, _jit_compiled_convolution_op, _jit_compiled_convolution_op, _update_step_xla while saving (showing 5 of 5). These functions will not be directly callable after loading.\n"
     ]
    },
    {
     "name": "stdout",
     "output_type": "stream",
     "text": [
      "INFO:tensorflow:Assets written to: /tmp/checkpoint\\assets\n"
     ]
    },
    {
     "name": "stderr",
     "output_type": "stream",
     "text": [
      "INFO:tensorflow:Assets written to: /tmp/checkpoint\\assets\n"
     ]
    },
    {
     "name": "stdout",
     "output_type": "stream",
     "text": [
      "90/90 [==============================] - 169s 2s/step - loss: 0.0130 - val_loss: 0.0129 - lr: 1.0000e-04\n",
      "Epoch 11/500\n",
      "90/90 [==============================] - ETA: 0s - loss: 0.0129"
     ]
    },
    {
     "name": "stderr",
     "output_type": "stream",
     "text": [
      "WARNING:absl:Found untraced functions such as _jit_compiled_convolution_op, _jit_compiled_convolution_op, _jit_compiled_convolution_op, _jit_compiled_convolution_op, _update_step_xla while saving (showing 5 of 5). These functions will not be directly callable after loading.\n"
     ]
    },
    {
     "name": "stdout",
     "output_type": "stream",
     "text": [
      "INFO:tensorflow:Assets written to: /tmp/checkpoint\\assets\n"
     ]
    },
    {
     "name": "stderr",
     "output_type": "stream",
     "text": [
      "INFO:tensorflow:Assets written to: /tmp/checkpoint\\assets\n"
     ]
    },
    {
     "name": "stdout",
     "output_type": "stream",
     "text": [
      "90/90 [==============================] - 152s 2s/step - loss: 0.0129 - val_loss: 0.0129 - lr: 1.0000e-04\n",
      "Epoch 12/500\n",
      "90/90 [==============================] - ETA: 0s - loss: 0.0128"
     ]
    },
    {
     "name": "stderr",
     "output_type": "stream",
     "text": [
      "WARNING:absl:Found untraced functions such as _jit_compiled_convolution_op, _jit_compiled_convolution_op, _jit_compiled_convolution_op, _jit_compiled_convolution_op, _update_step_xla while saving (showing 5 of 5). These functions will not be directly callable after loading.\n"
     ]
    },
    {
     "name": "stdout",
     "output_type": "stream",
     "text": [
      "INFO:tensorflow:Assets written to: /tmp/checkpoint\\assets\n"
     ]
    },
    {
     "name": "stderr",
     "output_type": "stream",
     "text": [
      "INFO:tensorflow:Assets written to: /tmp/checkpoint\\assets\n"
     ]
    },
    {
     "name": "stdout",
     "output_type": "stream",
     "text": [
      "90/90 [==============================] - 154s 2s/step - loss: 0.0128 - val_loss: 0.0128 - lr: 1.0000e-04\n",
      "Epoch 13/500\n",
      "90/90 [==============================] - ETA: 0s - loss: 0.0127"
     ]
    },
    {
     "name": "stderr",
     "output_type": "stream",
     "text": [
      "WARNING:absl:Found untraced functions such as _jit_compiled_convolution_op, _jit_compiled_convolution_op, _jit_compiled_convolution_op, _jit_compiled_convolution_op, _update_step_xla while saving (showing 5 of 5). These functions will not be directly callable after loading.\n"
     ]
    },
    {
     "name": "stdout",
     "output_type": "stream",
     "text": [
      "INFO:tensorflow:Assets written to: /tmp/checkpoint\\assets\n"
     ]
    },
    {
     "name": "stderr",
     "output_type": "stream",
     "text": [
      "INFO:tensorflow:Assets written to: /tmp/checkpoint\\assets\n"
     ]
    },
    {
     "name": "stdout",
     "output_type": "stream",
     "text": [
      "90/90 [==============================] - 156s 2s/step - loss: 0.0127 - val_loss: 0.0126 - lr: 1.0000e-04\n",
      "Epoch 14/500\n",
      "90/90 [==============================] - 156s 2s/step - loss: 0.0127 - val_loss: 0.0129 - lr: 1.0000e-04\n",
      "Epoch 15/500\n",
      "90/90 [==============================] - ETA: 0s - loss: 0.0127"
     ]
    },
    {
     "name": "stderr",
     "output_type": "stream",
     "text": [
      "WARNING:absl:Found untraced functions such as _jit_compiled_convolution_op, _jit_compiled_convolution_op, _jit_compiled_convolution_op, _jit_compiled_convolution_op, _update_step_xla while saving (showing 5 of 5). These functions will not be directly callable after loading.\n"
     ]
    },
    {
     "name": "stdout",
     "output_type": "stream",
     "text": [
      "INFO:tensorflow:Assets written to: /tmp/checkpoint\\assets\n"
     ]
    },
    {
     "name": "stderr",
     "output_type": "stream",
     "text": [
      "INFO:tensorflow:Assets written to: /tmp/checkpoint\\assets\n"
     ]
    },
    {
     "name": "stdout",
     "output_type": "stream",
     "text": [
      "90/90 [==============================] - 143s 2s/step - loss: 0.0127 - val_loss: 0.0125 - lr: 1.0000e-04\n",
      "Epoch 16/500\n",
      "90/90 [==============================] - 144s 2s/step - loss: 0.0125 - val_loss: 0.0128 - lr: 1.0000e-04\n",
      "Epoch 17/500\n",
      "90/90 [==============================] - ETA: 0s - loss: 0.0125"
     ]
    },
    {
     "name": "stderr",
     "output_type": "stream",
     "text": [
      "WARNING:absl:Found untraced functions such as _jit_compiled_convolution_op, _jit_compiled_convolution_op, _jit_compiled_convolution_op, _jit_compiled_convolution_op, _update_step_xla while saving (showing 5 of 5). These functions will not be directly callable after loading.\n"
     ]
    },
    {
     "name": "stdout",
     "output_type": "stream",
     "text": [
      "INFO:tensorflow:Assets written to: /tmp/checkpoint\\assets\n"
     ]
    },
    {
     "name": "stderr",
     "output_type": "stream",
     "text": [
      "INFO:tensorflow:Assets written to: /tmp/checkpoint\\assets\n"
     ]
    },
    {
     "name": "stdout",
     "output_type": "stream",
     "text": [
      "90/90 [==============================] - 153s 2s/step - loss: 0.0125 - val_loss: 0.0124 - lr: 1.0000e-04\n",
      "Epoch 18/500\n",
      "90/90 [==============================] - ETA: 0s - loss: 0.0124"
     ]
    },
    {
     "name": "stderr",
     "output_type": "stream",
     "text": [
      "WARNING:absl:Found untraced functions such as _jit_compiled_convolution_op, _jit_compiled_convolution_op, _jit_compiled_convolution_op, _jit_compiled_convolution_op, _update_step_xla while saving (showing 5 of 5). These functions will not be directly callable after loading.\n"
     ]
    },
    {
     "name": "stdout",
     "output_type": "stream",
     "text": [
      "INFO:tensorflow:Assets written to: /tmp/checkpoint\\assets\n"
     ]
    },
    {
     "name": "stderr",
     "output_type": "stream",
     "text": [
      "INFO:tensorflow:Assets written to: /tmp/checkpoint\\assets\n"
     ]
    },
    {
     "name": "stdout",
     "output_type": "stream",
     "text": [
      "90/90 [==============================] - 154s 2s/step - loss: 0.0124 - val_loss: 0.0123 - lr: 1.0000e-04\n",
      "Epoch 19/500\n",
      "90/90 [==============================] - ETA: 0s - loss: 0.0123"
     ]
    },
    {
     "name": "stderr",
     "output_type": "stream",
     "text": [
      "WARNING:absl:Found untraced functions such as _jit_compiled_convolution_op, _jit_compiled_convolution_op, _jit_compiled_convolution_op, _jit_compiled_convolution_op, _update_step_xla while saving (showing 5 of 5). These functions will not be directly callable after loading.\n"
     ]
    },
    {
     "name": "stdout",
     "output_type": "stream",
     "text": [
      "INFO:tensorflow:Assets written to: /tmp/checkpoint\\assets\n"
     ]
    },
    {
     "name": "stderr",
     "output_type": "stream",
     "text": [
      "INFO:tensorflow:Assets written to: /tmp/checkpoint\\assets\n"
     ]
    },
    {
     "name": "stdout",
     "output_type": "stream",
     "text": [
      "90/90 [==============================] - 156s 2s/step - loss: 0.0123 - val_loss: 0.0123 - lr: 1.0000e-04\n",
      "Epoch 20/500\n",
      "90/90 [==============================] - 151s 2s/step - loss: 0.0123 - val_loss: 0.0124 - lr: 1.0000e-04\n",
      "Epoch 21/500\n",
      "90/90 [==============================] - ETA: 0s - loss: 0.0123"
     ]
    },
    {
     "name": "stderr",
     "output_type": "stream",
     "text": [
      "WARNING:absl:Found untraced functions such as _jit_compiled_convolution_op, _jit_compiled_convolution_op, _jit_compiled_convolution_op, _jit_compiled_convolution_op, _update_step_xla while saving (showing 5 of 5). These functions will not be directly callable after loading.\n"
     ]
    },
    {
     "name": "stdout",
     "output_type": "stream",
     "text": [
      "INFO:tensorflow:Assets written to: /tmp/checkpoint\\assets\n"
     ]
    },
    {
     "name": "stderr",
     "output_type": "stream",
     "text": [
      "INFO:tensorflow:Assets written to: /tmp/checkpoint\\assets\n"
     ]
    },
    {
     "name": "stdout",
     "output_type": "stream",
     "text": [
      "90/90 [==============================] - 155s 2s/step - loss: 0.0123 - val_loss: 0.0123 - lr: 1.0000e-04\n",
      "Epoch 22/500\n",
      "90/90 [==============================] - ETA: 0s - loss: 0.0122"
     ]
    },
    {
     "name": "stderr",
     "output_type": "stream",
     "text": [
      "WARNING:absl:Found untraced functions such as _jit_compiled_convolution_op, _jit_compiled_convolution_op, _jit_compiled_convolution_op, _jit_compiled_convolution_op, _update_step_xla while saving (showing 5 of 5). These functions will not be directly callable after loading.\n"
     ]
    },
    {
     "name": "stdout",
     "output_type": "stream",
     "text": [
      "INFO:tensorflow:Assets written to: /tmp/checkpoint\\assets\n"
     ]
    },
    {
     "name": "stderr",
     "output_type": "stream",
     "text": [
      "INFO:tensorflow:Assets written to: /tmp/checkpoint\\assets\n"
     ]
    },
    {
     "name": "stdout",
     "output_type": "stream",
     "text": [
      "90/90 [==============================] - 156s 2s/step - loss: 0.0122 - val_loss: 0.0121 - lr: 1.0000e-04\n",
      "Epoch 23/500\n",
      "90/90 [==============================] - ETA: 0s - loss: 0.0121"
     ]
    },
    {
     "name": "stderr",
     "output_type": "stream",
     "text": [
      "WARNING:absl:Found untraced functions such as _jit_compiled_convolution_op, _jit_compiled_convolution_op, _jit_compiled_convolution_op, _jit_compiled_convolution_op, _update_step_xla while saving (showing 5 of 5). These functions will not be directly callable after loading.\n"
     ]
    },
    {
     "name": "stdout",
     "output_type": "stream",
     "text": [
      "INFO:tensorflow:Assets written to: /tmp/checkpoint\\assets\n"
     ]
    },
    {
     "name": "stderr",
     "output_type": "stream",
     "text": [
      "INFO:tensorflow:Assets written to: /tmp/checkpoint\\assets\n"
     ]
    },
    {
     "name": "stdout",
     "output_type": "stream",
     "text": [
      "90/90 [==============================] - 177s 2s/step - loss: 0.0121 - val_loss: 0.0121 - lr: 1.0000e-04\n",
      "Epoch 24/500\n",
      "90/90 [==============================] - ETA: 0s - loss: 0.0121"
     ]
    }
   ],
   "source": [
    "from tensorflow.keras.callbacks import ModelCheckpoint\n",
    "import tensorflow.keras.callbacks as callbacks\n",
    "\n",
    "import tensorflow.keras.optimizers as optimizers\n",
    "#model.compile(optimizer=optimizers.Adam(1e-2), loss=tf.keras.losses.BinaryCrossentropy(from_logits=False))\n",
    "model.compile(optimizer=optimizers.Adam(1e-4), loss='mean_squared_error')\n",
    "\n",
    "#model.summary()\n",
    "checkpoint_filepath = '/tmp/checkpoint/'\n",
    "'''\n",
    "model_checkpointing_callback = ModelCheckpoint(\n",
    "    filepath = checkpoint_filepath,\n",
    "    save_best_only= True,\n",
    ")\n",
    "'''\n",
    "model_checkpointing_callback = ModelCheckpoint(\n",
    "    filepath = checkpoint_filepath,\n",
    "    save_best_only= True,\n",
    ")\n",
    "\n",
    "model.fit(Xtr, Ytr,\n",
    "          batch_size=10000,\n",
    "          epochs=500,\n",
    "          verbose=1,\n",
    "          validation_split=0.1,\n",
    "            callbacks=[callbacks.ReduceLROnPlateau(monitor='loss', patience=10),\n",
    "                     callbacks.EarlyStopping(monitor='loss', patience=15, min_delta=1e-4),model_checkpointing_callback])\n",
    "model.save('model.h5')"
   ]
  },
  {
   "cell_type": "code",
   "execution_count": 77,
   "id": "59e01ae8",
   "metadata": {},
   "outputs": [
    {
     "data": {
      "text/plain": [
       "0.4980052760000001"
      ]
     },
     "execution_count": 77,
     "metadata": {},
     "output_type": "execute_result"
    }
   ],
   "source": [
    "np.mean(Ytr)"
   ]
  },
  {
   "cell_type": "code",
   "execution_count": 78,
   "id": "e96f0374",
   "metadata": {},
   "outputs": [
    {
     "data": {
      "text/plain": [
       "<tf.Tensor: shape=(1, 1), dtype=float32, numpy=array([[0.4970151]], dtype=float32)>"
      ]
     },
     "execution_count": 78,
     "metadata": {},
     "output_type": "execute_result"
    }
   ],
   "source": [
    "board = chess.Board()\n",
    "testInput = np.array([boardToInput(board)])\n",
    "model(testInput)"
   ]
  },
  {
   "cell_type": "code",
   "execution_count": 79,
   "id": "4be2621e",
   "metadata": {},
   "outputs": [],
   "source": [
    "def getMoveTensor(board,moves,model,isBlack):\n",
    "    bestEval = -2\n",
    "    bestMove = None\n",
    "    for move in moves:\n",
    "        board.push(move)\n",
    "        val = model(np.array([boardToInput(board)]))\n",
    "        if isBlack:\n",
    "            val = 1-val\n",
    "        if val > bestEval:\n",
    "            bestMove = move\n",
    "            bestEval = val\n",
    "        board.pop()\n",
    "    return bestEval,bestMove"
   ]
  },
  {
   "cell_type": "code",
   "execution_count": 116,
   "id": "073628e0",
   "metadata": {},
   "outputs": [],
   "source": [
    "board =chess.Board()\n",
    "isBlack = True"
   ]
  },
  {
   "cell_type": "code",
   "execution_count": 132,
   "id": "6b1c3e5a",
   "metadata": {},
   "outputs": [
    {
     "name": "stdout",
     "output_type": "stream",
     "text": [
      "\n",
      ". r . . k b n r\n",
      "p . p n p p p p\n",
      ". . . . . . . .\n",
      ". . . . . . . .\n",
      ". . P . . . . .\n",
      ". . B . . . . .\n",
      "P P . . . P B P\n",
      "R N . . K . . R\n"
     ]
    }
   ],
   "source": [
    "\n",
    "isBlack = not isBlack\n",
    "print()\n",
    "\n",
    "moves = list(board.legal_moves)\n",
    "engineMove = getMoveEngine(board,moves,isBlack)\n",
    "evaluation, AImove =  getMoveTensor(board,moves,model,isBlack)\n",
    "if isBlack:\n",
    "    move = AImove\n",
    "else:\n",
    "    move = AImove\n",
    "\n",
    "board.push(move)\n",
    "'''\n",
    "print(\"Model says: \" +str(float(evaluation)))\n",
    "if isBlack:\n",
    "    print(\"Engine evaluates it at: \" + str(valueToFloat(engine.analyse(board, chess.engine.Limit(depth=1))['score'].white())))\n",
    "else:\n",
    "    print(\"Engine evaluates it at: \" + str(valueToFloat(engine.analyse(board, chess.engine.Limit(depth=1))['score'].white())))\n",
    "'''\n",
    "print(board)\n"
   ]
  },
  {
   "cell_type": "code",
   "execution_count": null,
   "id": "43f62641",
   "metadata": {},
   "outputs": [],
   "source": []
  },
  {
   "cell_type": "code",
   "execution_count": null,
   "id": "ee4a233b",
   "metadata": {},
   "outputs": [],
   "source": []
  }
 ],
 "metadata": {
  "kernelspec": {
   "display_name": "Python 3 (ipykernel)",
   "language": "python",
   "name": "python3"
  },
  "language_info": {
   "codemirror_mode": {
    "name": "ipython",
    "version": 3
   },
   "file_extension": ".py",
   "mimetype": "text/x-python",
   "name": "python",
   "nbconvert_exporter": "python",
   "pygments_lexer": "ipython3",
   "version": "3.10.9"
  }
 },
 "nbformat": 4,
 "nbformat_minor": 5
}
